{
 "cells": [
  {
   "cell_type": "markdown",
   "metadata": {},
   "source": [
    "# Regexp \n",
    "\n",
    "A regular expression, or regexp, is a way of describing a set of strings. Because regular expressions are such a fundamental part of awk programming, their format and use deserve a separate chapter.\n",
    "\n"
   ]
  },
  {
   "cell_type": "code",
   "execution_count": 1,
   "metadata": {
    "scrolled": true
   },
   "outputs": [
    {
     "name": "stdout",
     "output_type": "stream",
     "text": [
      "555-5553\n",
      "555-0542\n",
      "555-6699\n",
      "555-3430\n"
     ]
    }
   ],
   "source": [
    "# phone nr of all that contain string\n",
    "awk '/li/ { print $2 }' data/mail_data.txt\n"
   ]
  },
  {
   "cell_type": "code",
   "execution_count": 2,
   "metadata": {},
   "outputs": [
    {
     "name": "stdout",
     "output_type": "stream",
     "text": [
      "Jan  13  25  15 115\n",
      "Jun  31  42  75 492\n",
      "Jul  24  34  67 436\n",
      "Jan  21  36  64 620\n"
     ]
    }
   ],
   "source": [
    "# matches, or selects, all input records with the uppercase letter ‘J’ somewhere in the first field:\n",
    "awk '$1 ~ /J/' data/inventory_shipped.txt"
   ]
  },
  {
   "cell_type": "code",
   "execution_count": 3,
   "metadata": {},
   "outputs": [
    {
     "name": "stdout",
     "output_type": "stream",
     "text": [
      "Jan  13  25  15 115\n",
      "Jun  31  42  75 492\n",
      "Jul  24  34  67 436\n",
      "Jan  21  36  64 620\n"
     ]
    }
   ],
   "source": [
    "# This is the sane thing, more verbose\n",
    "awk '{ if ($1 ~ /J/) print }' data/inventory_shipped.txt\n",
    "\n",
    "# When a regexp is enclosed in slashes, such as /foo/, we call it a regexp constant, \n",
    "# much like 5.27 is a numeric constant and \"foo\" is a string constant."
   ]
  },
  {
   "cell_type": "markdown",
   "metadata": {},
   "source": [
    "## Escape Sequences\n",
    "\n",
    "https://www.gnu.org/software/gawk/manual/html_node/Escape-Sequences.html#Escape-Sequences\n",
    "\n",
    "Some characters cannot be included literally in string constants (\"foo\") or regexp constants (/foo/). Instead, they should be represented with escape sequences, which are character sequences beginning with a backslash (‘\\’). One use of an escape sequence is to include a double-quote character in a string constant. Because a plain double quote ends the string, you must use ‘\\\"’ to represent an actual double-quote character as a part of the string. For example:\n",
    "\n",
    "The following list presents all the escape sequences used in awk and what they represent. Unless noted otherwise, all these escape sequences apply to both string constants and regexp constants:\n",
    "\n",
    "```\n",
    "\\\\\n",
    "A literal backslash, ‘\\’.\n",
    "\n",
    "\\a\n",
    "The “alert” character, Ctrl-g, ASCII code 7 (BEL). (This often makes some sort of audible noise.)\n",
    "\n",
    "\\b\n",
    "Backspace, Ctrl-h, ASCII code 8 (BS).\n",
    "\n",
    "\\f\n",
    "Formfeed, Ctrl-l, ASCII code 12 (FF).\n",
    "\n",
    "\\n\n",
    "Newline, Ctrl-j, ASCII code 10 (LF).\n",
    "\n",
    "\\r\n",
    "Carriage return, Ctrl-m, ASCII code 13 (CR).\n",
    "\n",
    "\\t\n",
    "Horizontal TAB, Ctrl-i, ASCII code 9 (HT).\n",
    "\n",
    "\\v\n",
    "Vertical TAB, Ctrl-k, ASCII code 11 (VT).\n",
    "\n",
    "\\nnn\n",
    "The octal value nnn, where nnn stands for 1 to 3 digits between ‘0’ and ‘7’. For example, the code for the ASCII ESC (escape) character is ‘\\033’.\n",
    "\n",
    "\\xhh…\n",
    "The hexadecimal value hh, where hh stands for a sequence of hexadecimal digits (‘0’–‘9’, and either ‘A’–‘F’ or ‘a’–‘f’). A maximum of two digts are allowed after the ‘\\x’. Any further hexadecimal digits are treated as simple letters or numbers. (c.e.) (The ‘\\x’ escape sequence is not allowed in POSIX awk.)\n",
    "\n",
    "CAUTION: In ISO C, the escape sequence continues until the first nonhexadecimal digit is seen. For many years, gawk would continue incorporating hexadecimal digits into the value until a non-hexadecimal digit or the end of the string was encountered. However, using more than two hexadecimal digits produced undefined results. As of version 4.2, only two digits are processed.\n",
    "\n",
    "\\/\n",
    "A literal slash (necessary for regexp constants only). This sequence is used when you want to write a regexp constant that contains a slash (such as /.*:\\/home\\/[[:alnum:]]+:.*/; the ‘[[:alnum:]]’ notation is discussed in Bracket Expressions). Because the regexp is delimited by slashes, you need to escape any slash that is part of the pattern, in order to tell awk to keep processing the rest of the regexp.\n",
    "\n",
    "\\\"\n",
    "A literal double quote (necessary for string constants only). This sequence is used when you want to write a string constant that contains a double quote (such as \"He said \\\"hi!\\\" to her.\"). Because the string is delimited by double quotes, you need to escape any quote that is part of the string, in order to tell awk to keep processing the rest of the string.\n",
    "\n",
    "```\n",
    "\n",
    "In gawk, a number of additional two-character sequences that begin with a backslash have special meaning in regexps. See GNU Regexp Operators.\n",
    "\n"
   ]
  },
  {
   "cell_type": "markdown",
   "metadata": {},
   "source": [
    "## Regular Expression Operators\n",
    "\n",
    "https://www.gnu.org/software/gawk/manual/html_node/Regexp-Operators.html#Regexp-Operators\n",
    "\n",
    "You can combine regular expressions with special characters, called regular expression operators or metacharacters, to increase the power and versatility of regular expressions.\n",
    "\n",
    "Here is a list of metacharacters. All characters that are not escape sequences and that are not listed here stand for themselves:\n",
    "\n",
    "```\n",
    "\\\n",
    "This suppresses the special meaning of a character when matching. For example, ‘\\$’ matches the character ‘$’.\n",
    "\n",
    "^\n",
    "This matches the beginning of a string. ‘^@chapter’ matches ‘@chapter’ at the beginning of a string, for example, and can be used to identify chapter beginnings in Texinfo source files. The ‘^’ is known as an anchor, because it anchors the pattern to match only at the beginning of the string.\n",
    "\n",
    "It is important to realize that ‘^’ does not match the beginning of a line (the point right after a ‘\\n’ newline character) embedded in a string. The condition is not true in the following example:\n",
    "\n",
    "if (\"line1\\nLINE 2\" ~ /^L/) …\n",
    "$\n",
    "This is similar to ‘^’, but it matches only at the end of a string. For example, ‘p$’ matches a record that ends with a ‘p’. The ‘$’ is an anchor and does not match the end of a line (the point right before a ‘\\n’ newline character) embedded in a string. The condition in the following example is not true:\n",
    "\n",
    "if (\"line1\\nLINE 2\" ~ /1$/) …\n",
    ". (period)\n",
    "This matches any single character, including the newline character. For example, ‘.P’ matches any single character followed by a ‘P’ in a string. Using concatenation, we can make a regular expression such as ‘U.A’, which matches any three-character sequence that begins with ‘U’ and ends with ‘A’.\n",
    "\n",
    "In strict POSIX mode (see Options), ‘.’ does not match the NUL character, which is a character with all bits equal to zero. Otherwise, NUL is just another character. Other versions of awk may not be able to match the NUL character.\n",
    "\n",
    "[…]\n",
    "This is called a bracket expression.15 It matches any one of the characters that are enclosed in the square brackets. For example, ‘[MVX]’ matches any one of the characters ‘M’, ‘V’, or ‘X’ in a string. A full discussion of what can be inside the square brackets of a bracket expression is given in Bracket Expressions.\n",
    "\n",
    "[^…]\n",
    "This is a complemented bracket expression. The first character after the ‘[’ must be a ‘^’. It matches any characters except those in the square brackets. For example, ‘[^awk]’ matches any character that is not an ‘a’, ‘w’, or ‘k’.\n",
    "\n",
    "|\n",
    "This is the alternation operator and it is used to specify alternatives. The ‘|’ has the lowest precedence of all the regular expression operators. For example, ‘^P|[aeiouy]’ matches any string that matches either ‘^P’ or ‘[aeiouy]’. This means it matches any string that starts with ‘P’ or contains (anywhere within it) a lowercase English vowel.\n",
    "\n",
    "The alternation applies to the largest possible regexps on either side.\n",
    "\n",
    "(…)\n",
    "Parentheses are used for grouping in regular expressions, as in arithmetic. They can be used to concatenate regular expressions containing the alternation operator, ‘|’. For example, ‘@(samp|code)\\{[^}]+\\}’ matches both ‘@code{foo}’ and ‘@samp{bar}’. (These are Texinfo formatting control sequences. The ‘+’ is explained further on in this list.)\n",
    "\n",
    "*\n",
    "This symbol means that the preceding regular expression should be repeated as many times as necessary to find a match. For example, ‘ph*’ applies the ‘*’ symbol to the preceding ‘h’ and looks for matches of one ‘p’ followed by any number of ‘h’s. This also matches just ‘p’ if no ‘h’s are present.\n",
    "\n",
    "There are two subtle points to understand about how ‘*’ works. First, the ‘*’ applies only to the single preceding regular expression component (e.g., in ‘ph*’, it applies just to the ‘h’). To cause ‘*’ to apply to a larger subexpression, use parentheses: ‘(ph)*’ matches ‘ph’, ‘phph’, ‘phphph’, and so on.\n",
    "\n",
    "Second, ‘*’ finds as many repetitions as possible. If the text to be matched is ‘phhhhhhhhhhhhhhooey’, ‘ph*’ matches all of the ‘h’s.\n",
    "\n",
    "+\n",
    "This symbol is similar to ‘*’, except that the preceding expression must be matched at least once. This means that ‘wh+y’ would match ‘why’ and ‘whhy’, but not ‘wy’, whereas ‘wh*y’ would match all three.\n",
    "\n",
    "?\n",
    "This symbol is similar to ‘*’, except that the preceding expression can be matched either once or not at all. For example, ‘fe?d’ matches ‘fed’ and ‘fd’, but nothing else.\n",
    "\n",
    "{n}\n",
    "{n,}\n",
    "{n,m}\n",
    "One or two numbers inside braces denote an interval expression. If there is one number in the braces, the preceding regexp is repeated n times. If there are two numbers separated by a comma, the preceding regexp is repeated n to m times. If there is one number followed by a comma, then the preceding regexp is repeated at least n times:\n",
    "\n",
    "wh{3}y\n",
    "Matches ‘whhhy’, but not ‘why’ or ‘whhhhy’.\n",
    "\n",
    "wh{3,5}y\n",
    "Matches ‘whhhy’, ‘whhhhy’, or ‘whhhhhy’ only.\n",
    "\n",
    "wh{2,}y\n",
    "Matches ‘whhy’, ‘whhhy’, and so on.\n",
    "\n",
    "```\n",
    "\n",
    "Interval expressions were not traditionally available in awk. They were added as part of the POSIX standard to make awk and egrep consistent with each other.\n",
    "\n",
    "Initially, because old programs may use ‘{’ and ‘}’ in regexp constants, gawk did not match interval expressions in regexps.\n",
    "\n",
    "However, beginning with version 4.0, gawk does match interval expressions by default. This is because compatibility with POSIX has become more important to most gawk users than compatibility with old programs.\n",
    "\n",
    "For programs that use ‘{’ and ‘}’ in regexp constants, it is good practice to always escape them with a backslash. Then the regexp constants are valid and work the way you want them to, using any version of awk.16\n",
    "\n",
    "Finally, when ‘{’ and ‘}’ appear in regexp constants in a way that cannot be interpreted as an interval expression (such as /q{a}/), then they stand for themselves.\n",
    "\n",
    "In regular expressions, the ‘*’, ‘+’, and ‘?’ operators, as well as the braces ‘{’ and ‘}’, have the highest precedence, followed by concatenation, and finally by ‘|’. As in arithmetic, parentheses can change how operators are grouped.\n",
    "\n",
    "In POSIX awk and gawk, the ‘*’, ‘+’, and ‘?’ operators stand for themselves when there is nothing in the regexp that precedes them. For example, /+/ matches a literal plus sign. However, many other versions of awk treat such a usage as a syntax error.\n",
    "\n",
    "If gawk is in compatibility mode (see Options), interval expressions are not available in regular expressions."
   ]
  },
  {
   "cell_type": "code",
   "execution_count": 4,
   "metadata": {},
   "outputs": [
    {
     "name": "stdout",
     "output_type": "stream",
     "text": [
      "<A>bcd\n"
     ]
    }
   ],
   "source": [
    "# How much is matched\n",
    "\n",
    "echo aaaabcd | awk '{ sub(/a+/, \"<A>\"); print }'\n",
    "\n",
    "# => always match the leftmost, longest sequence of input characters that can match. \n",
    "# Thus, all four ‘a’ characters are replaced with ‘<A>’"
   ]
  },
  {
   "cell_type": "code",
   "execution_count": 6,
   "metadata": {},
   "outputs": [
    {
     "name": "stdout",
     "output_type": "stream",
     "text": [
      "Match 2\n"
     ]
    }
   ],
   "source": [
    "# Case sensitive matching by default\n",
    "awk 'BEGIN { \n",
    "x = \"aB\"\n",
    "if (x ~ /ab/) print \"Match 1\"\n",
    "\n",
    "IGNORECASE = 1\n",
    "if (x ~ /ab/) print \"Match 2\"   # now it will succeed\n",
    "}'"
   ]
  },
  {
   "cell_type": "markdown",
   "metadata": {},
   "source": [
    "# TODO:\n",
    "\n",
    "add more good examples / recipes"
   ]
  }
 ],
 "metadata": {
  "kernelspec": {
   "display_name": "Bash",
   "language": "bash",
   "name": "bash"
  },
  "language_info": {
   "codemirror_mode": "shell",
   "file_extension": ".sh",
   "mimetype": "text/x-sh",
   "name": "bash"
  }
 },
 "nbformat": 4,
 "nbformat_minor": 2
}
