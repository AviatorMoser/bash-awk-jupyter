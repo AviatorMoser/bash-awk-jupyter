{
 "cells": [
  {
   "cell_type": "code",
   "execution_count": 1,
   "metadata": {},
   "outputs": [
    {
     "name": "stdout",
     "output_type": "stream",
     "text": [
      "Hello      World\n",
      "Hello World\n",
      "Hello * World\n",
      "Hello bash-1.ipynb bash-2.ipynb center_message.sh run.sh sales-data.txt World\n",
      "Hello World\n",
      "Hello World\n",
      "Hello       World\n",
      "Hello * World\n",
      "bash: hello: command not found\n",
      "world\n",
      "hello world\n"
     ]
    }
   ],
   "source": [
    "# This is a comment!\n",
    "echo \"Hello      World\"       # This is a comment, too!\n",
    "echo \"Hello World\"\n",
    "echo \"Hello * World\"\n",
    "echo Hello * World\n",
    "echo Hello      World\n",
    "echo \"Hello\" World\n",
    "echo Hello \"     \" World\n",
    "echo \"Hello \"*\" World\"\n",
    "echo `hello` world\n",
    "echo 'hello' world"
   ]
  },
  {
   "cell_type": "code",
   "execution_count": 2,
   "metadata": {
    "scrolled": true
   },
   "outputs": [
    {
     "name": "stdout",
     "output_type": "stream",
     "text": [
      "total 884\n",
      "drwxr-xr-x 1 root root   4096 Oct  3 13:20 .\n",
      "drwxr-xr-x 1 root root   4096 Apr 26 21:17 ..\n",
      "-rw-r--r-- 1 root root  17712 Oct  5 10:13 alternatives.log\n",
      "drwxr-xr-x 1 root root   4096 Oct  5 10:13 apt\n",
      "-rw-r--r-- 1 root root  35330 Apr 26 21:16 bootstrap.log\n",
      "-rw-rw---- 1 root utmp      0 Apr 26 21:16 btmp\n",
      "-rw-r--r-- 1 root root 434686 Oct  5 10:13 dpkg.log\n",
      "-rw-r--r-- 1 root root  32032 Jul 20 19:33 faillog\n",
      "-rw-r--r-- 1 root root   2960 Oct  5 10:13 fontconfig.log\n",
      "-rw-rw-r-- 1 root utmp 292292 Jul 20 19:33 lastlog\n",
      "-rw------- 1 root root  64064 Jul 20 19:33 tallylog\n",
      "-rw-rw-r-- 1 root utmp      0 Apr 26 21:16 wtmp\n"
     ]
    }
   ],
   "source": [
    "LOG_DIR=/var/log\n",
    "# Variables are better than hard-coded values.\n",
    "cd $LOG_DIR\n",
    "ls -la"
   ]
  },
  {
   "cell_type": "code",
   "execution_count": 3,
   "metadata": {},
   "outputs": [
    {
     "name": "stdout",
     "output_type": "stream",
     "text": [
      "lrwxrwxrwx 1 root root 24 Jun 13 17:09 /usr/share/file/magic.mgc -> ../../lib/file/magic.mgc\n",
      "total 156\n",
      "drwxr-xr-x  1 root root  4096 Oct  5 10:13 ./\n",
      "drwxr-xr-x  1 root root  4096 Apr 26 21:16 ../\n",
      "drwxr-xr-x  1 root root  4096 Jul  9 22:54 apt/\n",
      "drwxr-xr-x  3 root root  4096 Oct  3 13:18 aspell/\n",
      "drwxr-xr-x  2 root root  4096 Oct  3 13:18 bfd-plugins/\n",
      "drwxr-xr-x  2 root root  4096 Oct  3 13:18 compat-ld/\n",
      "drwxr-xr-x  2 root root  4096 Oct  3 13:18 dconf/\n",
      "drwxr-xr-x  3 root root  4096 Oct  5 10:13 debug/\n",
      "drwxr-xr-x  1 root root  4096 Apr 26 21:16 dpkg/\n",
      "drwxr-xr-x  3 root root  4096 Oct  3 13:18 emacs/\n",
      "drwxr-xr-x  3 root root  4096 Oct  3 13:18 emacsen-common/\n",
      "drwxr-xr-x  2 root root  4096 Oct  5 09:55 file/\n",
      "drwxr-xr-x  1 root root  4096 Apr 16 15:06 gcc/\n",
      "drwxr-xr-x  3 root root  4096 Oct  3 13:18 git-core/\n",
      "drwxr-xr-x  2 root root  4096 Oct  3 13:18 glib-networking/\n",
      "drwxr-xr-x  2 root root  4096 Oct  3 13:18 gold-ld/\n",
      "drwxr-xr-x  2 root root  4096 Oct  3 13:18 inkscape/\n",
      "drwxr-xr-x  2 root root  4096 Oct  3 13:18 ispell/\n",
      "drwxr-xr-x  3 root root  4096 Oct  5 10:13 jvm/\n",
      "drwxr-xr-x  1 root root  4096 Jul  9 22:55 locale/\n",
      "drwxr-xr-x  1 root root  4096 Oct  3 13:17 mime/\n",
      "-rw-r--r--  1 root root   382 Apr 24 08:34 os-release\n",
      "drwxr-xr-x  4 root root  4096 Oct  5 09:55 php/\n",
      "drwxr-xr-x  2 root root  4096 Apr 21  2017 pkgconfig/\n",
      "-rw-r--r--  1 root root    17 Apr 21  2017 pkg-config.multiarch\n",
      "drwxr-xr-x 27 root root 20480 Oct  3 13:20 python2.7/\n",
      "drwxr-xr-x  2 root root  4096 Feb  5  2018 sasl2/\n",
      "drwxr-xr-x  3 root root  4096 Jul  9 22:54 ssl/\n",
      "drwxr-xr-x  2 root root  4096 Jul  9 22:54 sudo/\n",
      "drwxr-xr-x  3 root root  4096 Oct  3 13:18 systemd/\n",
      "drwxr-xr-x  2 root root  4096 Jul 21  2017 tar/\n",
      "drwxr-xr-x  1 root root  4096 Jul  9 22:54 tmpfiles.d/\n",
      "drwxr-xr-x  2 root root  4096 Oct  3 13:17 valgrind/\n",
      "drwxr-xr-x  2 root root  4096 Jun 21 10:48 X11/\n",
      "drwxr-xr-x  1 root root  4096 Oct  5 10:13 x86_64-linux-gnu/\n"
     ]
    }
   ],
   "source": [
    "ll /usr/share/file/magic.mgc\n",
    "ll /usr/lib"
   ]
  },
  {
   "cell_type": "code",
   "execution_count": 4,
   "metadata": {
    "scrolled": true
   },
   "outputs": [
    {
     "name": "stdout",
     "output_type": "stream",
     "text": [
      "The number of days since the year's beginning is 278.\n",
      "The number of seconds elapsed since 01/01/1970 is 1538772486.\n",
      "Temporary filename = temp.1538772486\n"
     ]
    }
   ],
   "source": [
    "# Exercising the 'date' command\n",
    "\n",
    "echo \"The number of days since the year's beginning is `date +%j`.\"\n",
    "# Needs a leading '+' to invoke formatting.\n",
    "# %j gives day of year.\n",
    "\n",
    "echo \"The number of seconds elapsed since 01/01/1970 is `date +%s`.\"\n",
    "#  %s yields number of seconds since \"UNIX epoch\" began,\n",
    "#+ but how is this useful?\n",
    "\n",
    "prefix=temp\n",
    "suffix=$(date +%s)  # The \"+%s\" option to 'date' is GNU-specific.\n",
    "filename=$prefix.$suffix\n",
    "echo \"Temporary filename = $filename\"\n",
    "#  It's great for creating \"unique and random\" temp filenames,\n",
    "#+ even better than using $$.\n",
    "\n",
    "# Read the 'date' man page for more formatting options.\n"
   ]
  },
  {
   "cell_type": "code",
   "execution_count": 5,
   "metadata": {},
   "outputs": [
    {
     "name": "stdout",
     "output_type": "stream",
     "text": [
      "The # here does not begin a comment.\n",
      "The # here does not begin a comment.\n",
      "The # here does not begin a comment.\n",
      "The\n",
      "/opt/conda/bin:/usr/local/sbin:/usr/local/bin:/usr/sbin:/usr/bin:/sbin:/bin\n",
      "43\n"
     ]
    }
   ],
   "source": [
    "echo \"The # here does not begin a comment.\"\n",
    "echo 'The # here does not begin a comment.'\n",
    "echo The \\# here does not begin a comment.\n",
    "echo The # here begins a comment.\n",
    "\n",
    "echo ${PATH#*:}       # Parameter substitution, not a comment.\n",
    "echo $(( 2#101011 ))  # Base conversion, not a comment."
   ]
  },
  {
   "cell_type": "code",
   "execution_count": 6,
   "metadata": {},
   "outputs": [
    {
     "name": "stdout",
     "output_type": "stream",
     "text": [
      "$variable = abc\n"
     ]
    }
   ],
   "source": [
    "# terminator in case - double ;;\n",
    "variable=abc\n",
    "case \"$variable\" in\n",
    "  abc)  echo \"\\$variable = abc\" ;;\n",
    "  xyz)  echo \"\\$variable = xyz\" ;;\n",
    "esac"
   ]
  },
  {
   "cell_type": "code",
   "execution_count": 7,
   "metadata": {},
   "outputs": [
    {
     "name": "stdout",
     "output_type": "stream",
     "text": [
      "/bin/nc\n",
      "/bin/sync\n",
      "/usr/bin/allec\n",
      "/usr/bin/c89-gcc\n",
      "/usr/bin/c99-gcc\n",
      "/usr/bin/cachepic\n",
      "/usr/bin/cc\n",
      "/usr/bin/gcc\n",
      "/usr/bin/jexec\n",
      "/usr/bin/lsipc\n",
      "/usr/bin/mathspic\n",
      "/usr/bin/mkpic\n",
      "/usr/bin/nproc\n",
      "/usr/bin/pandoc\n",
      "/usr/bin/pdftosrc\n",
      "/usr/bin/perldoc\n",
      "/usr/bin/pydoc\n",
      "/usr/bin/t1mac\n",
      "/usr/bin/t1unmac\n",
      "/usr/bin/tac\n",
      "/usr/bin/texdoc\n",
      "/usr/bin/texluac\n",
      "/usr/bin/texluajitc\n",
      "/usr/bin/tic\n",
      "/usr/bin/wc\n",
      "/usr/bin/x86_64-linux-gnu-gcc\n",
      "/sbin/*c\n"
     ]
    }
   ],
   "source": [
    "for file in /{,usr/,s}bin/*c\n",
    "#             ^    Find all executable files ending in \"cc\"\n",
    "#+                 in /bin and /usr/bin directories.\n",
    "do\n",
    "  echo $file\n",
    "done"
   ]
  },
  {
   "cell_type": "code",
   "execution_count": 8,
   "metadata": {},
   "outputs": [],
   "source": [
    "# A colon can serve as a placeholder in an otherwise empty function.\n",
    "\n",
    "not_empty ()\n",
    "{\n",
    "  :\n",
    "} # Contains a : (null command), and so is not empty.\n",
    "\n",
    "not_empty"
   ]
  },
  {
   "cell_type": "code",
   "execution_count": 9,
   "metadata": {},
   "outputs": [
    {
     "name": "stdout",
     "output_type": "stream",
     "text": [
      "The name of this function is : \n"
     ]
    }
   ],
   "source": [
    "# A colon is acceptable as a function name.\n",
    ":()\n",
    "{\n",
    "  echo \"The name of this function is \"$FUNCNAME\" \"\n",
    "  # Why use a colon as a function name?\n",
    "  # It's a way of obfuscating your code.\n",
    "}\n",
    "\n",
    ":\n",
    "\n",
    "# The name of this function is :"
   ]
  },
  {
   "cell_type": "code",
   "execution_count": 13,
   "metadata": {},
   "outputs": [
    {
     "name": "stdout",
     "output_type": "stream",
     "text": [
      "The name of this function is : \n"
     ]
    }
   ],
   "source": [
    "# A colon can serve as a placeholder in an otherwise empty function.\n",
    "\n",
    "not_empty ()\n",
    "{\n",
    "  :\n",
    "} # Contains a : (null command), and so is not empty.\n",
    "\n",
    "not_empty\n",
    "\n",
    "unset -f :\n",
    "\n",
    "not_empty"
   ]
  },
  {
   "cell_type": "code",
   "execution_count": 15,
   "metadata": {},
   "outputs": [
    {
     "name": "stdout",
     "output_type": "stream",
     "text": [
      "bash: jovyan: command not found\n",
      "jovyan, jovyan\n",
      "bash: 1: Usage: /bin/bash ARGUMENT\n"
     ]
    },
    {
     "ename": "",
     "evalue": "1",
     "output_type": "error",
     "traceback": []
    }
   ],
   "source": [
    ": ${username=`whoami`}\n",
    "${username2=`whoami`}   Gives an error without the leading :\n",
    "#                        unless \"username\" is a command or builtin...\n",
    "echo $username, $username2\n",
    ": ${1?\"Usage: $0 ARGUMENT\"}     # From \"usage-message.sh example script.\n",
    "\n"
   ]
  },
  {
   "cell_type": "code",
   "execution_count": 18,
   "metadata": {},
   "outputs": [
    {
     "name": "stdout",
     "output_type": "stream",
     "text": [
      "9\n"
     ]
    }
   ],
   "source": [
    "# condition?result-if-true:result-if-false\n",
    "\n",
    "(( var0 = var1<98?9:21 ))\n",
    "#                ^ ^\n",
    "\n",
    "# if [ \"$var1\" -lt 98 ]\n",
    "# then\n",
    "#   var0=9\n",
    "# else\n",
    "#   var0=21\n",
    "# fi\n",
    "\n",
    "echo $var0"
   ]
  },
  {
   "cell_type": "code",
   "execution_count": 19,
   "metadata": {},
   "outputs": [
    {
     "name": "stdout",
     "output_type": "stream",
     "text": [
      "a = 321\n",
      "a = 123\n"
     ]
    }
   ],
   "source": [
    "a=123\n",
    "( a=321; echo \"a = $a\")     \n",
    "\n",
    "echo \"a = $a\"   # a = 123\n",
    "# \"a\" within parentheses acts like a local variable."
   ]
  },
  {
   "cell_type": "code",
   "execution_count": 20,
   "metadata": {},
   "outputs": [
    {
     "name": "stdout",
     "output_type": "stream",
     "text": [
      "\"These\" \"words\" \"are\" \"quoted\"\n",
      "cat file1 file2 file3\n",
      "cp file22.txt file22.backup\n"
     ]
    }
   ],
   "source": [
    "echo \\\"{These,words,are,quoted}\\\"   # \" prefix and suffix\n",
    "# \"These\" \"words\" \"are\" \"quoted\"\n",
    "\n",
    "\n",
    "echo cat {file1,file2,file3} \n",
    "# Concatenates the files file1, file2, and file3 \n",
    "\n",
    "echo cp file22.{txt,backup}\n",
    "# Copies \"file22.txt\" to \"file22.backup\""
   ]
  },
  {
   "cell_type": "code",
   "execution_count": 1,
   "metadata": {},
   "outputs": [
    {
     "name": "stdout",
     "output_type": "stream",
     "text": [
      "a b c d e f g h i j k l m n o p q r s t u v w x y z\n",
      "0 1 2 3\n",
      "Aa0+/=\n",
      "SHELL=/bin/bash\n",
      "GNU bash, version 4.4.19(1)-release (x86_64-pc-linux-gnu)\n",
      "Copyright (C) 2016 Free Software Foundation, Inc.\n",
      "License GPLv3+: GNU GPL version 3 or later <http://gnu.org/licenses/gpl.html>\n",
      "\n",
      "This is free software; you are free to change and redistribute it.\n",
      "There is NO WARRANTY, to the extent permitted by law.\n"
     ]
    }
   ],
   "source": [
    "echo {a..z} # a b c d e f g h i j k l m n o p q r s t u v w x y z\n",
    "# Echoes characters between a and z.\n",
    "\n",
    "echo {0..3} # 0 1 2 3\n",
    "# Echoes characters between 0 and 3.\n",
    "\n",
    "\n",
    "base64_charset=({A..Z}{a..z}{0..9}+/=)\n",
    "# Initializing an array, using extended brace expansion.\n",
    "# From vladz's \"base64.sh\" example script.\n",
    "echo $base64_charset\n",
    "env | grep -i bash\n",
    "bash --version"
   ]
  },
  {
   "cell_type": "code",
   "execution_count": 3,
   "metadata": {},
   "outputs": [
    {
     "name": "stdout",
     "output_type": "stream",
     "text": [
      "First line in /etc/hosts is:\n",
      "127.0.0.1\tlocalhost\n",
      "\n",
      "Second line in /etc/hosts is:\n",
      "::1\tlocalhost ip6-localhost ip6-loopback\n"
     ]
    }
   ],
   "source": [
    "# Reading lines in /etc/hosts.\n",
    "\n",
    "File=/etc/hosts\n",
    "\n",
    "{\n",
    "read line1\n",
    "read line2\n",
    "} < $File\n",
    "\n",
    "echo \"First line in $File is:\"\n",
    "echo \"$line1\"\n",
    "echo\n",
    "echo \"Second line in $File is:\"\n",
    "echo \"$line2\""
   ]
  },
  {
   "cell_type": "code",
   "execution_count": 7,
   "metadata": {},
   "outputs": [
    {
     "name": "stdout",
     "output_type": "stream",
     "text": [
      "Although carrots precede tomatoes in the dictionary,\n",
      "this does not necessarily imply anything about my culinary preferences.\n"
     ]
    }
   ],
   "source": [
    "# ASCII comparison.\n",
    "veg1=carrots\n",
    "veg2=tomatoes\n",
    "\n",
    "if [[ \"$veg1\" < \"$veg2\" ]]\n",
    "then\n",
    "  echo \"Although $veg1 precede $veg2 in the dictionary,\"\n",
    "  echo -n \"this does not necessarily imply anything \"\n",
    "  echo \"about my culinary preferences.\"\n",
    "else\n",
    "  echo \"What kind of dictionary are you using, anyhow?\"\n",
    "fi"
   ]
  },
  {
   "cell_type": "code",
   "execution_count": 9,
   "metadata": {
    "scrolled": true
   },
   "outputs": [
    {
     "name": "stdout",
     "output_type": "stream",
     "text": [
      "hello\n",
      "375\n",
      "375\n",
      "375\n",
      "375\n",
      "\n",
      "A B C D\n",
      "A B  C   D\n",
      "\n",
      "$hello\n",
      "$hello (null value) = \n",
      "\n",
      "var1=21   var2=22   var3=\n",
      "\n",
      "\n",
      "numbers = one two three\n",
      "other_numbers = 1 2 3\n",
      "2 --- Whatever\n",
      "\n",
      "\n",
      "uninitialized_variable = \n",
      "uninitialized_variable = \n",
      "uninitialized_variable = \n",
      "\n"
     ]
    }
   ],
   "source": [
    "# ex9.sh\n",
    "\n",
    "# Variables: assignment and substitution\n",
    "\n",
    "a=375\n",
    "hello=$a\n",
    "#   ^ ^\n",
    "\n",
    "#-------------------------------------------------------------------------\n",
    "# No space permitted on either side of = sign when initializing variables.\n",
    "# What happens if there is a space?\n",
    "\n",
    "#  \"VARIABLE =value\"\n",
    "#           ^\n",
    "#% Script tries to run \"VARIABLE\" command with one argument, \"=value\".\n",
    "\n",
    "#  \"VARIABLE= value\"\n",
    "#            ^\n",
    "#% Script tries to run \"value\" command with\n",
    "#+ the environmental variable \"VARIABLE\" set to \"\".\n",
    "#-------------------------------------------------------------------------\n",
    "\n",
    "\n",
    "echo hello    # hello\n",
    "# Not a variable reference, just the string \"hello\" ...\n",
    "\n",
    "echo $hello   # 375\n",
    "#    ^          This *is* a variable reference.\n",
    "echo ${hello} # 375\n",
    "#               Likewise a variable reference, as above.\n",
    "\n",
    "# Quoting . . .\n",
    "echo \"$hello\"    # 375\n",
    "echo \"${hello}\"  # 375\n",
    "\n",
    "echo\n",
    "\n",
    "hello=\"A B  C   D\"\n",
    "echo $hello   # A B C D\n",
    "echo \"$hello\" # A B  C   D\n",
    "# As we see, echo $hello   and   echo \"$hello\"   give different results.\n",
    "# =======================================\n",
    "# Quoting a variable preserves whitespace.\n",
    "# =======================================\n",
    "\n",
    "echo\n",
    "\n",
    "echo '$hello'  # $hello\n",
    "#    ^      ^\n",
    "#  Variable referencing disabled (escaped) by single quotes,\n",
    "#+ which causes the \"$\" to be interpreted literally.\n",
    "\n",
    "# Notice the effect of different types of quoting.\n",
    "\n",
    "\n",
    "hello=    # Setting it to a null value.\n",
    "echo \"\\$hello (null value) = $hello\"      # $hello (null value) =\n",
    "#  Note that setting a variable to a null value is not the same as\n",
    "#+ unsetting it, although the end result is the same (see below).\n",
    "\n",
    "# --------------------------------------------------------------\n",
    "\n",
    "#  It is permissible to set multiple variables on the same line,\n",
    "#+ if separated by white space.\n",
    "#  Caution, this may reduce legibility, and may not be portable.\n",
    "\n",
    "var1=21  var2=22  var3=$V3\n",
    "echo\n",
    "echo \"var1=$var1   var2=$var2   var3=$var3\"\n",
    "\n",
    "# May cause problems with legacy versions of \"sh\" . . .\n",
    "\n",
    "# --------------------------------------------------------------\n",
    "\n",
    "echo; echo\n",
    "\n",
    "numbers=\"one two three\"\n",
    "#           ^   ^\n",
    "other_numbers=\"1 2 3\"\n",
    "#               ^ ^\n",
    "#  If there is whitespace embedded within a variable,\n",
    "#+ then quotes are necessary.\n",
    "#  other_numbers=1 2 3                  # Gives an error message.\n",
    "echo \"numbers = $numbers\"\n",
    "echo \"other_numbers = $other_numbers\"   # other_numbers = 1 2 3\n",
    "#  Escaping the whitespace also works.\n",
    "mixed_bag=2\\ ---\\ Whatever\n",
    "#           ^    ^ Space after escape (\\).\n",
    "\n",
    "echo \"$mixed_bag\"         # 2 --- Whatever\n",
    "\n",
    "echo; echo\n",
    "\n",
    "echo \"uninitialized_variable = $uninitialized_variable\"\n",
    "# Uninitialized variable has null value (no value at all!).\n",
    "uninitialized_variable=   #  Declaring, but not initializing it --\n",
    "                          #+ same as setting it to a null value, as above.\n",
    "echo \"uninitialized_variable = $uninitialized_variable\"\n",
    "                          # It still has a null value.\n",
    "\n",
    "uninitialized_variable=23       # Set it.\n",
    "unset uninitialized_variable    # Unset it.\n",
    "echo \"uninitialized_variable = $uninitialized_variable\"\n",
    "                                # uninitialized_variable =\n",
    "                                # It still has a null value.\n",
    "echo\n"
   ]
  },
  {
   "cell_type": "code",
   "execution_count": 11,
   "metadata": {},
   "outputs": [
    {
     "name": "stdout",
     "output_type": "stream",
     "text": [
      "\n",
      "The value of \"a\" is 879.\n",
      "The value of \"a\" is now 21.\n",
      "\n",
      "Values of \"a\" in the loop are: 7 8 9 11 \n",
      "\n"
     ]
    }
   ],
   "source": [
    "# Naked variables\n",
    "\n",
    "echo\n",
    "\n",
    "# When is a variable \"naked\", i.e., lacking the '$' in front?\n",
    "# When it is being assigned, rather than referenced.\n",
    "\n",
    "# Assignment\n",
    "a=879\n",
    "echo \"The value of \\\"a\\\" is $a.\"\n",
    "\n",
    "# Assignment using 'let'\n",
    "let a=16+5\n",
    "echo \"The value of \\\"a\\\" is now $a.\"\n",
    "\n",
    "echo\n",
    "\n",
    "# In a 'for' loop (really, a type of disguised assignment):\n",
    "echo -n \"Values of \\\"a\\\" in the loop are: \"\n",
    "for a in 7 8 9 11\n",
    "do\n",
    "  echo -n \"$a \"\n",
    "done\n",
    "\n",
    "echo\n",
    "echo\n",
    "\n"
   ]
  },
  {
   "cell_type": "code",
   "execution_count": 20,
   "metadata": {},
   "outputs": [
    {
     "name": "stdout",
     "output_type": "stream",
     "text": [
      "23\n",
      "23\n",
      "Hello\n",
      "-rw-r--r-- 1 root root 103 Apr 24 08:33 /etc/lsb-release lrwxrwxrwx 1 root root 21 Apr 24 08:34 /etc/os-release -> ../usr/lib/os-release\n",
      "\n",
      "-rw-r--r-- 1 root root 103 Apr 24 08:33 /etc/lsb-release\n",
      "lrwxrwxrwx 1 root root  21 Apr 24 08:34 /etc/os-release -> ../usr/lib/os-release\n",
      "\n",
      "DISTRIB_ID=Ubuntu DISTRIB_RELEASE=18.04 DISTRIB_CODENAME=bionic DISTRIB_DESCRIPTION=\"Ubuntu 18.04 LTS\"\n",
      "x86_64\n"
     ]
    }
   ],
   "source": [
    "a=23              # Simple case\n",
    "echo $a\n",
    "b=$a\n",
    "echo $b\n",
    "\n",
    "# Now, getting a little bit fancier (command substitution).\n",
    "\n",
    "a=`echo Hello`   # Assigns result of 'echo' command to 'a' ...\n",
    "echo $a\n",
    "#  Note that including an exclamation mark (!) within a\n",
    "#+ command substitution construct will not work from the command-line,\n",
    "#+ since this triggers the Bash \"history mechanism.\"\n",
    "#  Inside a script, however, the history functions are disabled by default.\n",
    "\n",
    "a=`ls -l /etc/*release`         # Assigns result of 'ls -l' command to 'a'\n",
    "echo $a           # Unquoted, however, it removes tabs and newlines.\n",
    "echo\n",
    "echo \"$a\"         # The quoted variable preserves whitespace.\n",
    "                  # (See the chapter on \"Quoting.\")\n",
    "# From /etc/rc.d/rc.local\n",
    "R=$(cat /etc/lsb-release)\n",
    "arch=$(uname -m)\n",
    "echo\n",
    "echo $R\n",
    "echo $arch"
   ]
  },
  {
   "cell_type": "code",
   "execution_count": 22,
   "metadata": {},
   "outputs": [
    {
     "name": "stdout",
     "output_type": "stream",
     "text": [
      "a = 2335 \n",
      "\n",
      "1 b = 0\n",
      "2 b = 0\n",
      "3 b = 1\n",
      "\n",
      "c = BB34\n",
      "d = 2334\n",
      "d = 2335\n",
      "\n",
      "e = \n",
      "e = 1\n",
      "\n",
      "f = 1\n",
      "f = 2\n",
      "\n",
      "bash: let: f /= : syntax error: operand expected (error token is \"/= \")\n",
      "bash: let: f /= 0: division by 0 (error token is \"0\")\n"
     ]
    },
    {
     "ename": "",
     "evalue": "1",
     "output_type": "error",
     "traceback": []
    }
   ],
   "source": [
    "# int-or-string.sh\n",
    "\n",
    "a=2334                   # Integer.\n",
    "let \"a += 1\"\n",
    "echo \"a = $a \"           # a = 2335\n",
    "echo                     # Integer, still.\n",
    "\n",
    "\n",
    "b=${a/23/BB}             # Substitute \"BB\" for \"23\".\n",
    "                         # This transforms $b into a string.\n",
    "echo \"1 b = $b\"            # b = BB35\n",
    "declare -i b             # Declaring it an integer doesn't help.\n",
    "echo \"2 b = $b\"            # b = BB35\n",
    "\n",
    "let \"b += 1\"             # BB35 + 1\n",
    "echo \"3 b = $b\"            # b = 1\n",
    "echo                     # Bash sets the \"integer value\" of a string to 0.\n",
    "\n",
    "c=BB34\n",
    "echo \"c = $c\"            # c = BB34\n",
    "d=${c/BB/23}             # Substitute \"23\" for \"BB\".\n",
    "                         # This makes $d an integer.\n",
    "echo \"d = $d\"            # d = 2334\n",
    "let \"d += 1\"             # 2334 + 1\n",
    "echo \"d = $d\"            # d = 2335\n",
    "echo\n",
    "\n",
    "\n",
    "# What about null variables?\n",
    "e=''                     # ... Or e=\"\" ... Or e=\n",
    "echo \"e = $e\"            # e =\n",
    "let \"e += 1\"             # Arithmetic operations allowed on a null variable?\n",
    "echo \"e = $e\"            # e = 1\n",
    "echo                     # Null variable transformed into an integer.\n",
    "\n",
    "# What about undeclared variables?\n",
    "echo \"f = $f\"            # f =\n",
    "let \"f += 1\"             # Arithmetic operations allowed?\n",
    "echo \"f = $f\"            # f = 1\n",
    "echo                     # Undeclared variable transformed into an integer.\n",
    "#\n",
    "# However ...\n",
    "let \"f /= $undecl_var\"   # Divide by zero?\n",
    "#   let: f /= : syntax error: operand expected (error token is \" \")\n",
    "# Syntax error! Variable $undecl_var is not set to zero here!\n",
    "#\n",
    "# But still ...\n",
    "let \"f /= 0\"\n",
    "#   let: f /= 0: division by 0 (error token is \"0\")\n",
    "# Expected behavior.\n",
    "\n",
    "\n",
    "#  Bash (usually) sets the \"integer value\" of null to zero\n",
    "#+ when performing an arithmetic operation.\n",
    "#  But, don't try this at home, folks!\n",
    "#  It's undocumented and probably non-portable behavior.\n",
    "\n",
    "\n",
    "# Conclusion: Variables in Bash are untyped,\n",
    "#+ with all attendant consequences."
   ]
  },
  {
   "cell_type": "code",
   "execution_count": 31,
   "metadata": {
    "scrolled": true
   },
   "outputs": [
    {
     "name": "stdout",
     "output_type": "stream",
     "text": [
      "#!/bin/bash\n",
      "\n",
      "# Call this script with at least 10 parameters, for example\n",
      "# ./scriptname 1 2 3 4 5 6 7 8 9 10\n",
      "MINPARAMS=10\n",
      "\n",
      "echo\n",
      "\n",
      "echo \"The name of this script is \\\"$0\\\".\"\n",
      "# Adds ./ for current directory\n",
      "echo \"The name of this script is \\\"`basename $0`\\\".\"\n",
      "# Strips out path name info (see 'basename')\n",
      "\n",
      "echo\n",
      "\n",
      "if [ -n \"$1\" ]              # Tested variable is quoted.\n",
      "then\n",
      " echo \"Parameter #1 is $1\"  # Need quotes to escape #\n",
      "fi \n",
      "\n",
      "if [ -n \"$2\" ]\n",
      "then\n",
      " echo \"Parameter #2 is $2\"\n",
      "fi \n",
      "\n",
      "if [ -n \"$3\" ]\n",
      "then\n",
      " echo \"Parameter #3 is $3\"\n",
      "fi \n",
      "\n",
      "# ...\n",
      "\n",
      "\n",
      "if [ -n \"${10}\" ]  # Parameters > $9 must be enclosed in {brackets}.\n",
      "then\n",
      " echo \"Parameter #10 is ${10}\"\n",
      "fi \n",
      "\n",
      "echo \"-----------------------------------\"\n",
      "echo \"All the command-line parameters are: \"$*\"\"\n",
      "\n",
      "if [ $# -lt \"$MINPARAMS\" ]\n",
      "then\n",
      "  echo\n",
      "  echo \"This script needs at least $MINPARAMS command-line arguments!\"\n",
      "fi  \n",
      "\n",
      "echo\n",
      "\n",
      "exit 0\n",
      "=====================\n",
      "\n",
      "The name of this script is \"./minparams\".\n",
      "The name of this script is \"minparams\".\n",
      "\n",
      "Parameter #1 is 1\n",
      "Parameter #2 is 2\n",
      "Parameter #3 is 3\n",
      "-----------------------------------\n",
      "All the command-line parameters are: 1 2 3 4 5 6\n",
      "\n",
      "This script needs at least 10 command-line arguments!\n",
      "\n",
      "\n",
      "The name of this script is \"./minparams\".\n",
      "The name of this script is \"minparams\".\n",
      "\n",
      "Parameter #1 is 1\n",
      "Parameter #2 is 2\n",
      "Parameter #3 is 3\n",
      "Parameter #10 is A\n",
      "-----------------------------------\n",
      "All the command-line parameters are: 1 2 3 4 5 6 7 8 9 A B\n",
      "\n"
     ]
    }
   ],
   "source": [
    "cat ./minparams\n",
    "\n",
    "echo\n",
    "echo =====================\n",
    "\n",
    "./minparams 1 2 3 4 5 6\n",
    "\n",
    "./minparams 1 2 3 4 5 6 7 8 9 A B\n"
   ]
  },
  {
   "cell_type": "code",
   "execution_count": 32,
   "metadata": {},
   "outputs": [
    {
     "name": "stdout",
     "output_type": "stream",
     "text": [
      "one\n",
      "two\n",
      "three\n",
      "---\n",
      "one two three\n"
     ]
    }
   ],
   "source": [
    "List=\"one two three\"\n",
    "\n",
    "for a in $List     # Splits the variable in parts at whitespace.\n",
    "do\n",
    "  echo \"$a\"\n",
    "done\n",
    "# one\n",
    "# two\n",
    "# three\n",
    "\n",
    "echo \"---\"\n",
    "\n",
    "for a in \"$List\"   # Preserves whitespace in a single variable.\n",
    "do #     ^     ^\n",
    "  echo \"$a\"\n",
    "done\n",
    "# one two three"
   ]
  },
  {
   "cell_type": "code",
   "execution_count": 34,
   "metadata": {},
   "outputs": [
    {
     "name": "stdout",
     "output_type": "stream",
     "text": [
      "\n",
      "'(] {}$\"\n",
      "'(]\\{}$\"\n",
      "\n",
      "'(] {}$\"\n",
      "'(]\\{}$\"\n",
      "\n",
      "  \"\n",
      "\\\\\"\n",
      "\n",
      "\\\\\\\\\n",
      "\"\n",
      "$var1 = Two bits\n"
     ]
    }
   ],
   "source": [
    "echo\n",
    "\n",
    "var=\"'(]\\\\{}\\$\\\"\"\n",
    "echo $var        # '(]\\{}$\"\n",
    "echo \"$var\"      # '(]\\{}$\"     Doesn't make a difference.\n",
    "\n",
    "echo\n",
    "\n",
    "IFS='\\'\n",
    "echo $var        # '(] {}$\"     \\ converted to space. Why?\n",
    "echo \"$var\"      # '(]\\{}$\"\n",
    "\n",
    "# Examples above supplied by Stephane Chazelas.\n",
    "\n",
    "echo\n",
    "\n",
    "var2=\"\\\\\\\\\\\"\"\n",
    "echo $var2       #   \"\n",
    "echo \"$var2\"     # \\\\\"\n",
    "echo\n",
    "# But ... var2=\"\\\\\\\\\"\" is illegal. Why?\n",
    "var3='\\\\\\\\'\n",
    "echo \"$var3\"     # \\\\\\\\\n",
    "# Strong quoting works, though.\n",
    "\n",
    "\n",
    "# ************************************************************ #\n",
    "# As the first example above shows, nesting quotes is permitted.\n",
    "\n",
    "echo \"$(echo '\"')\"           # \"\n",
    "#    ^           ^\n",
    "\n",
    "\n",
    "# At times this comes in useful.\n",
    "\n",
    "var1=\"Two bits\"\n",
    "echo \"\\$var1 = \"$var1\"\"      # $var1 = Two bits\n",
    "#    ^                ^\n"
   ]
  },
  {
   "cell_type": "code",
   "execution_count": 35,
   "metadata": {},
   "outputs": [
    {
     "name": "stdout",
     "output_type": "stream",
     "text": [
      "\n",
      "This will print\n",
      "as two lines.\n",
      "This will print as one line.\n",
      "\n",
      "\n",
      "=============\n",
      "\\v\\v\\v\\v\n",
      "=============\n",
      "VERTICAL TABS\n",
      "\u000b",
      "\u000b",
      "\u000b",
      "\u000b",
      "\n",
      "==============\n",
      "QUOTATION MARK\n",
      "\"\n",
      "==============\n",
      "\n",
      "NEWLINE and (maybe) BEEP\n",
      "\n",
      "\n",
      "\u0007\n",
      "Introducing the $\\' ... \\' string-expansion construct . . . \n",
      ". . . featuring more quotation marks.\n",
      "\t \" \t\n",
      "\t \" \t\n",
      "\n",
      "\" Quoted string \" and this lies outside the quotes.\n",
      "\n",
      "___ UNDERLINE ___\n",
      "\n",
      "AB\n",
      "\n",
      "\"escape\" echoes as \u001b\n",
      "\n"
     ]
    }
   ],
   "source": [
    "# escaped.sh: escaped characters\n",
    "\n",
    "#############################################################\n",
    "### First, let's show some basic escaped-character usage. ###\n",
    "#############################################################\n",
    "\n",
    "# Escaping a newline.\n",
    "# ------------------\n",
    "\n",
    "echo \"\"\n",
    "\n",
    "echo \"This will print\n",
    "as two lines.\"\n",
    "# This will print\n",
    "# as two lines.\n",
    "\n",
    "echo \"This will print \\\n",
    "as one line.\"\n",
    "# This will print as one line.\n",
    "\n",
    "echo; echo\n",
    "\n",
    "echo \"=============\"\n",
    "\n",
    "\n",
    "echo \"\\v\\v\\v\\v\"      # Prints \\v\\v\\v\\v literally.\n",
    "# Use the -e option with 'echo' to print escaped characters.\n",
    "echo \"=============\"\n",
    "echo \"VERTICAL TABS\"\n",
    "echo -e \"\\v\\v\\v\\v\"   # Prints 4 vertical tabs.\n",
    "echo \"==============\"\n",
    "\n",
    "echo \"QUOTATION MARK\"\n",
    "echo -e \"\\042\"       # Prints \" (quote, octal ASCII character 42).\n",
    "echo \"==============\"\n",
    "\n",
    "\n",
    "\n",
    "# The $'\\X' construct makes the -e option unnecessary.\n",
    "\n",
    "echo; echo \"NEWLINE and (maybe) BEEP\"\n",
    "echo $'\\n'           # Newline.\n",
    "echo $'\\a'           # Alert (beep).\n",
    "                     # May only flash, not beep, depending on terminal.\n",
    "\n",
    "# We have seen $'\\nnn\" string expansion, and now . . .\n",
    "\n",
    "# =================================================================== #\n",
    "# Version 2 of Bash introduced the $'\\nnn' string expansion construct.\n",
    "# =================================================================== #\n",
    "\n",
    "echo \"Introducing the \\$\\' ... \\' string-expansion construct . . . \"\n",
    "echo \". . . featuring more quotation marks.\"\n",
    "\n",
    "echo $'\\t \\042 \\t'   # Quote (\") framed by tabs.\n",
    "# Note that  '\\nnn' is an octal value.\n",
    "\n",
    "# It also works with hexadecimal values, in an $'\\xhhh' construct.\n",
    "echo $'\\t \\x22 \\t'  # Quote (\") framed by tabs.\n",
    "# Thank you, Greg Keraunen, for pointing this out.\n",
    "# Earlier Bash versions allowed '\\x022'.\n",
    "\n",
    "echo\n",
    "\n",
    "\n",
    "# Assigning ASCII characters to a variable.\n",
    "# ----------------------------------------\n",
    "quote=$'\\042'        # \" assigned to a variable.\n",
    "echo \"$quote Quoted string $quote and this lies outside the quotes.\"\n",
    "\n",
    "echo\n",
    "\n",
    "# Concatenating ASCII chars in a variable.\n",
    "triple_underline=$'\\137\\137\\137'  # 137 is octal ASCII code for '_'.\n",
    "echo \"$triple_underline UNDERLINE $triple_underline\"\n",
    "\n",
    "echo\n",
    "\n",
    "ABC=$'\\101\\102\\103\\010'           # 101, 102, 103 are octal A, B, C.\n",
    "echo $ABC\n",
    "\n",
    "echo\n",
    "\n",
    "escape=$'\\033'                    # 033 is octal for escape.\n",
    "echo \"\\\"escape\\\" echoes as $escape\"\n",
    "#                                   no visible output.\n",
    "\n",
    "echo"
   ]
  },
  {
   "cell_type": "code",
   "execution_count": 37,
   "metadata": {},
   "outputs": [
    {
     "name": "stdout",
     "output_type": "stream",
     "text": [
      "1\n",
      "0\n",
      "1\n",
      "-----------------\n",
      "0\n",
      "1\n",
      "0\n",
      "0\n",
      "203\n",
      "0\n"
     ]
    }
   ],
   "source": [
    "(( 0 && 1 ))                 # Logical AND\n",
    "echo $?     # 1     ***\n",
    "# And so ...\n",
    "let \"num = (( 0 && 1 ))\"\n",
    "echo $num   # 0\n",
    "# But ...\n",
    "let \"num = (( 0 && 1 ))\"\n",
    "echo $?     # 1     ***\n",
    "\n",
    "echo -----------------\n",
    "\n",
    "(( 200 || 11 ))              # Logical OR\n",
    "echo $?     # 0     ***\n",
    "# ...\n",
    "let \"num = (( 200 || 11 ))\"\n",
    "echo $num   # 1\n",
    "let \"num = (( 200 || 11 ))\"\n",
    "echo $?     # 0     ***\n",
    "\n",
    "echo -----------------\n",
    "\n",
    "(( 200 | 11 ))               # Bitwise OR\n",
    "echo $?                      # 0     ***\n",
    "# ...\n",
    "let \"num = (( 200 | 11 ))\"\n",
    "echo $num                    # 203\n",
    "let \"num = (( 200 | 11 ))\"\n",
    "echo $?                      # 0     ***\n",
    "\n",
    "# The \"let\" construct returns the same exit status\n",
    "#+ as the double-parentheses arithmetic expansion."
   ]
  }
 ],
 "metadata": {
  "kernelspec": {
   "display_name": "Bash",
   "language": "bash",
   "name": "bash"
  },
  "language_info": {
   "codemirror_mode": "shell",
   "file_extension": ".sh",
   "mimetype": "text/x-sh",
   "name": "bash"
  }
 },
 "nbformat": 4,
 "nbformat_minor": 2
}
