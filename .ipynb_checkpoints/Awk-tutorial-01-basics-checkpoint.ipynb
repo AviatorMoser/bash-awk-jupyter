{
 "cells": [
  {
   "cell_type": "markdown",
   "metadata": {},
   "source": [
    "# AWK tutorial"
   ]
  },
  {
   "cell_type": "markdown",
   "metadata": {},
   "source": [
    "See https://github.com/tdhopper/awk-lessons for inspiration\n",
    "\n",
    "## Lesson 01: Basics of Awk\n",
    "\n",
    "If you haven't read the Awk man page, you should start there. It's helpful! Some highlights:\n",
    "\n",
    "```\n",
    "awk − pattern-directed scanning and processing language\n",
    "\n",
    "awk [ −F fs ] [ −v var=value ] [ ’prog’ | −f progfile ] [ file ... ]\n",
    "```\n",
    "\n",
    "Awk scans each input file for lines that match any of a set of patterns specified literally in prog or in one or more files specified as −f progfile.\n",
    "\n",
    "With each pattern there can be an associated action that will be performed when a line of a file matches the pattern.\n",
    "\n",
    "Each line is matched against the pattern portion of every pattern-action statement; the associated action is performed for each matched pattern\n",
    "\n",
    "A pattern-action statement has the form pattern {action}.\n",
    "\n",
    "A missing { action } means print the line; a missing pattern always matches.\n",
    "\n",
    "I created an simple example file to demonstrate basic Awk:"
   ]
  },
  {
   "cell_type": "code",
   "execution_count": 1,
   "metadata": {},
   "outputs": [
    {
     "name": "stdout",
     "output_type": "stream",
     "text": [
      "a\n",
      "bb\n",
      "ccc\n",
      "dddd\n",
      "ggg\n",
      "hh\n",
      "i"
     ]
    }
   ],
   "source": [
    "cat data/letters.txt"
   ]
  },
  {
   "cell_type": "markdown",
   "metadata": {},
   "source": [
    "### A Basic Pattern\n",
    "\n",
    "If we match lines longer than two characters and use the implicit print action, we get:"
   ]
  },
  {
   "cell_type": "code",
   "execution_count": 2,
   "metadata": {},
   "outputs": [
    {
     "name": "stdout",
     "output_type": "stream",
     "text": [
      "bb\n",
      "ccc\n",
      "dddd\n",
      "ggg\n",
      "hh\n"
     ]
    }
   ],
   "source": [
    "awk 'length $0 > 2' data/letters.txt"
   ]
  },
  {
   "cell_type": "markdown",
   "metadata": {},
   "source": [
    "$0 is a built-in variable that contains the line.\n",
    "\n",
    "### A Basic Function\n",
    "\n",
    "If we leave out a pattern, we will match every line. A trivial action would be to print each line:"
   ]
  },
  {
   "cell_type": "code",
   "execution_count": 3,
   "metadata": {},
   "outputs": [
    {
     "name": "stdout",
     "output_type": "stream",
     "text": [
      "a\n",
      "bb\n",
      "ccc\n",
      "dddd\n",
      "ggg\n",
      "hh\n",
      "i\n",
      "\n",
      "Using the length function as our action, we can get the length of each line:\n",
      "\n",
      "1\n",
      "2\n",
      "3\n",
      "4\n",
      "3\n",
      "2\n",
      "1\n"
     ]
    }
   ],
   "source": [
    "awk '{ print }' data/letters.txt\n",
    "\n",
    "echo\n",
    "echo Using the length function as our action, we can get the length of each line:\n",
    "echo \n",
    "\n",
    "awk '{ print length }' data/letters.txt"
   ]
  },
  {
   "cell_type": "code",
   "execution_count": 4,
   "metadata": {
    "scrolled": true
   },
   "outputs": [
    {
     "name": "stdout",
     "output_type": "stream",
     "text": [
      "1a\n",
      "2bb\n",
      "3ccc\n",
      "4dddd\n",
      "3ggg\n",
      "2hh\n",
      "1i\n",
      "\n",
      "The above prints length of line and line - the value of $0\n",
      "\n",
      "1 a\n",
      "2 bb\n",
      "3 ccc\n",
      "4 dddd\n",
      "3 ggg\n",
      "2 hh\n",
      "1 i\n",
      "\n",
      "Using , as separator puts whitespace\n",
      "\n"
     ]
    }
   ],
   "source": [
    "# We can combine things\n",
    "awk '{ print length $0}' data/letters.txt\n",
    "\n",
    "echo \n",
    "echo The above prints length of line and line - the value of \\$0\n",
    "echo\n",
    "\n",
    "awk '{ print length,$0}' data/letters.txt\n",
    "echo \n",
    "echo Using \",\" as separator puts whitespace \n",
    "echo\n"
   ]
  },
  {
   "cell_type": "code",
   "execution_count": 5,
   "metadata": {
    "scrolled": true
   },
   "outputs": [
    {
     "name": "stdout",
     "output_type": "stream",
     "text": [
      "HI\n",
      "a\n",
      "bb\n",
      "ccc\n",
      "dddd\n",
      "ggg\n",
      "hh\n",
      "i\n",
      "BYE!\n"
     ]
    }
   ],
   "source": [
    "# Awk has special controls for executing some code before the file input begins and after it is complete.\n",
    "\n",
    "awk 'BEGIN { print \"HI\" } { print $0 } END { print \"BYE!\" }' data/letters.txt"
   ]
  },
  {
   "cell_type": "code",
   "execution_count": 6,
   "metadata": {},
   "outputs": [
    {
     "name": "stdout",
     "output_type": "stream",
     "text": [
      "Don't Panic! \n"
     ]
    }
   ],
   "source": [
    "awk \"BEGIN { print \\\"Don't Panic! \\\" }\""
   ]
  },
  {
   "cell_type": "markdown",
   "metadata": {},
   "source": [
    "### Combining Patterns and Functions\n",
    "Of course, patterns and functions can be combined so that the function is only applied when the pattern is matched.\n",
    "\n",
    "From the man page:\n",
    "```\n",
    "A pattern-action statement has the form\n",
    "\n",
    "pattern { action }\n",
    "```\n",
    "\n",
    "We can print the length of all lines longer than 2 characters."
   ]
  },
  {
   "cell_type": "code",
   "execution_count": 7,
   "metadata": {},
   "outputs": [
    {
     "name": "stdout",
     "output_type": "stream",
     "text": [
      "3\n",
      "4\n",
      "3\n"
     ]
    }
   ],
   "source": [
    "awk 'length($0) > 2 { print length($0) }' data/letters.txt"
   ]
  },
  {
   "cell_type": "code",
   "execution_count": 8,
   "metadata": {},
   "outputs": [
    {
     "name": "stdout",
     "output_type": "stream",
     "text": [
      "Short: 1\n",
      "Long:  3\n",
      "Long:  4\n",
      "Long:  3\n",
      "Short: 1\n"
     ]
    }
   ],
   "source": [
    "# Actually, we don't have to limit Awk to just one pattern! \n",
    "# We can have arbitrarily many patterns separated by a semicolon or a new line:\n",
    "\n",
    "awk 'length($0) > 2 { print \"Long:  \" length($0) }; length($0) < 2 { print \"Short: \" length($0) }' data/letters.txt"
   ]
  },
  {
   "cell_type": "markdown",
   "metadata": {},
   "source": [
    "### Multiple Fields\n",
    "\n",
    "Awk is designed for easy handling of data with multiple fields per row. \n",
    "The field delimiter can be specified with the -F option.\n",
    "\n",
    "Here's a simple space-delimited file:"
   ]
  },
  {
   "cell_type": "code",
   "execution_count": 9,
   "metadata": {},
   "outputs": [
    {
     "name": "stdout",
     "output_type": "stream",
     "text": [
      "Roses are red,\n",
      "Violets are blue,\n",
      "Sugar is sweet,\n",
      "And so are you.\n"
     ]
    }
   ],
   "source": [
    "cat data/field_data.txt"
   ]
  },
  {
   "cell_type": "code",
   "execution_count": 10,
   "metadata": {},
   "outputs": [
    {
     "name": "stdout",
     "output_type": "stream",
     "text": [
      "are\n",
      "are\n",
      "is\n",
      "so\n",
      "\n",
      "are\n",
      "are\n",
      "is\n",
      "so\n"
     ]
    }
   ],
   "source": [
    "# If we specify the field seperator, we can print the second field from each row:\n",
    "\n",
    "awk -F \" \" '{ print $2 }' data/field_data.txt\n",
    "echo\n",
    "\n",
    "# which is also a default\n",
    "awk '{ print $2 }' data/field_data.txt\n"
   ]
  },
  {
   "cell_type": "code",
   "execution_count": 11,
   "metadata": {},
   "outputs": [
    {
     "name": "stdout",
     "output_type": "stream",
     "text": [
      "\n",
      "\n",
      "\n",
      "you.\n"
     ]
    }
   ],
   "source": [
    "# We don't get an error if a line doesn't have the referenced field; it just shows up as blank\n",
    "awk -F \" \" '{ print $4 }' data/field_data.txt"
   ]
  },
  {
   "cell_type": "code",
   "execution_count": 12,
   "metadata": {},
   "outputs": [
    {
     "name": "stdout",
     "output_type": "stream",
     "text": [
      "Field 1: Roses \n",
      "Field 2: red,\n",
      "Field 1: Violets \n",
      "Field 2: blue,\n",
      "Field 1: Sugar \n",
      "Field 2: sweet,\n",
      "Field 1: And \n",
      "Field 2: you.\n"
     ]
    }
   ],
   "source": [
    "# The seperator expression is interpreted as a regular expression.\n",
    "\n",
    "awk -F \"((so )?are|is) \" '{print \"Field 1: \" $1 \"\\nField 2: \" $2}' data/field_data.txt\n"
   ]
  },
  {
   "cell_type": "markdown",
   "metadata": {},
   "source": [
    "### Regular Expressions\n",
    "\n",
    "Patterns can be regular expressions, not just built-in functions. From the man page:\n",
    "\n",
    "Regular expressions are as defined in re_format(7) - \n",
    "Isolated regular expressions in a pattern apply to the entire line."
   ]
  },
  {
   "cell_type": "code",
   "execution_count": 13,
   "metadata": {},
   "outputs": [
    {
     "name": "stdout",
     "output_type": "stream",
     "text": [
      "total 1172\n",
      "drwxr-xr-x  4 jovyan users    128 Oct 20 17:01 .\n",
      "drwxr-xr-x 17 jovyan users    544 Oct 20 18:21 ..\n",
      "-rw-r--r--  1 jovyan users 256374 Oct 20 16:59 8927565-d9783627c731268fb2935a731a618aa8e95cf465.zip\n",
      "-rw-r--r--  1 jovyan users 938847 Feb 11  2014 words\n"
     ]
    }
   ],
   "source": [
    "ls -la dict"
   ]
  },
  {
   "cell_type": "code",
   "execution_count": 14,
   "metadata": {
    "scrolled": true
   },
   "outputs": [
    {
     "name": "stdout",
     "output_type": "stream",
     "text": [
      "gooier\n",
      "gooiest\n",
      "queue\n",
      "queue's\n",
      "queued\n",
      "queues\n",
      "queuing\n",
      "\n",
      "gooier\n",
      "gooiest\n",
      "queue\n",
      "queue's\n",
      "queued\n",
      "queues\n",
      "queuing\n"
     ]
    }
   ],
   "source": [
    "awk '/^[a-z][aeiou][aeiou][aeiou][aeiou]/' dict/words\n",
    "echo\n",
    "# This should be the same but is not\n",
    "awk '/^[a-z][aeiou]{4}/' dict/words"
   ]
  },
  {
   "cell_type": "markdown",
   "metadata": {},
   "source": [
    "### Passing variables into program\n",
    "\n",
    "The -v option for Awk allows us to pass variables it the program. \n",
    "For example, we could use it to hard code constants."
   ]
  },
  {
   "cell_type": "code",
   "execution_count": 15,
   "metadata": {},
   "outputs": [
    {
     "name": "stdout",
     "output_type": "stream",
     "text": [
      "3.1415\n",
      "/home/jovyan/work\n"
     ]
    }
   ],
   "source": [
    "awk -v pi=3.1415 'BEGIN { print pi }'\n",
    "\n",
    "# The $USER will work in terminal, not in Jupyter or in Docker\n",
    "awk -v curdir=$PWD 'BEGIN { print curdir }'"
   ]
  },
  {
   "cell_type": "markdown",
   "metadata": {},
   "source": [
    "### If-else Statements\n",
    "If-else statements in Awk are of the form:\n",
    "\n",
    "if (condition) then-body [else else-body]\n",
    "\n",
    "For example:"
   ]
  },
  {
   "cell_type": "code",
   "execution_count": 16,
   "metadata": {},
   "outputs": [
    {
     "name": "stdout",
     "output_type": "stream",
     "text": [
      "1 is odd\n",
      "2 is even\n",
      "3 is odd\n",
      "4 is even\n"
     ]
    }
   ],
   "source": [
    "printf \"1\\n2\\n3\\n4\" | awk \\\n",
    "    '{ \\\n",
    "        if ($1 % 2 == 0) print $1, \"is even\"; \\\n",
    "        else print $1, \"is odd\" \\\n",
    "     }'"
   ]
  },
  {
   "cell_type": "markdown",
   "metadata": {},
   "source": [
    "### Looping\n",
    "Awk includes several looping statements: while, do while, and for.\n",
    "\n",
    "They take the expected C-ish syntax."
   ]
  },
  {
   "cell_type": "code",
   "execution_count": 17,
   "metadata": {},
   "outputs": [
    {
     "name": "stdout",
     "output_type": "stream",
     "text": [
      "0\n",
      "1\n",
      "2\n",
      "3\n",
      "4\n"
     ]
    }
   ],
   "source": [
    "awk \\\n",
    "    'BEGIN { \\\n",
    "        i = 0; \\\n",
    "        while (i < 5) { print i; i+=1; } \\\n",
    "     }'"
   ]
  },
  {
   "cell_type": "code",
   "execution_count": 18,
   "metadata": {},
   "outputs": [
    {
     "name": "stdout",
     "output_type": "stream",
     "text": [
      "0\n",
      "1\n",
      "2\n",
      "3\n",
      "4\n"
     ]
    }
   ],
   "source": [
    "awk \\\n",
    "    'BEGIN { \\\n",
    "        i = 0; \\\n",
    "        do { print i; i+=1; } while(i < 5) \\\n",
    "     }'"
   ]
  },
  {
   "cell_type": "code",
   "execution_count": 19,
   "metadata": {},
   "outputs": [
    {
     "name": "stdout",
     "output_type": "stream",
     "text": [
      "0\n",
      "1\n",
      "2\n",
      "3\n",
      "4\n"
     ]
    }
   ],
   "source": [
    "awk \\\n",
    "    'BEGIN { \\\n",
    "        i = 0; \\\n",
    "        for(i = 0; i<5; i++) print i \\\n",
    "     }'"
   ]
  },
  {
   "cell_type": "code",
   "execution_count": 20,
   "metadata": {},
   "outputs": [
    {
     "name": "stdout",
     "output_type": "stream",
     "text": [
      "GNU Awk 4.1.4, API: 1.1 (GNU MPFR 4.0.1, GNU MP 6.1.2)\n",
      "Copyright (C) 1989, 1991-2016 Free Software Foundation.\n",
      "\n",
      "This program is free software; you can redistribute it and/or modify\n",
      "it under the terms of the GNU General Public License as published by\n",
      "the Free Software Foundation; either version 3 of the License, or\n",
      "(at your option) any later version.\n",
      "\n",
      "This program is distributed in the hope that it will be useful,\n",
      "but WITHOUT ANY WARRANTY; without even the implied warranty of\n",
      "MERCHANTABILITY or FITNESS FOR A PARTICULAR PURPOSE.  See the\n",
      "GNU General Public License for more details.\n",
      "\n",
      "You should have received a copy of the GNU General Public License\n",
      "along with this program. If not, see http://www.gnu.org/licenses/.\n"
     ]
    }
   ],
   "source": [
    "awk --version"
   ]
  }
 ],
 "metadata": {
  "kernelspec": {
   "display_name": "Bash",
   "language": "bash",
   "name": "bash"
  },
  "language_info": {
   "codemirror_mode": "shell",
   "file_extension": ".sh",
   "mimetype": "text/x-sh",
   "name": "bash"
  }
 },
 "nbformat": 4,
 "nbformat_minor": 2
}
