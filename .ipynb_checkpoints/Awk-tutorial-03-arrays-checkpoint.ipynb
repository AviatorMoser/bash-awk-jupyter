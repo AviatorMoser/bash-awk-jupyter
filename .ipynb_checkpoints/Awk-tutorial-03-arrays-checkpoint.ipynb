{
 "cells": [
  {
   "cell_type": "markdown",
   "metadata": {},
   "source": [
    "# Lesson 03: Arrays\n",
    "\n",
    "Awk provides a limited number of data structures. Besides scalar and string variables, an array data structure is built into the language. While officially called \"arrays\", this structure is actually an associtiave array, analgous to a Python dict data structure.\n",
    "\n",
    "Arrays don't need to be initialized. You can just start assigning. Notice that keys can be numeric or strings."
   ]
  }
 ],
 "metadata": {
  "kernelspec": {
   "display_name": "Bash",
   "language": "bash",
   "name": "bash"
  },
  "language_info": {
   "codemirror_mode": "shell",
   "file_extension": ".sh",
   "mimetype": "text/x-sh",
   "name": "bash"
  }
 },
 "nbformat": 4,
 "nbformat_minor": 2
}
