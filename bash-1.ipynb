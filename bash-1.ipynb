{
 "cells": [
  {
   "cell_type": "code",
   "execution_count": 1,
   "metadata": {
    "scrolled": true
   },
   "outputs": [
    {
     "name": "stdout",
     "output_type": "stream",
     "text": [
      "Hello Fred\n",
      "\n",
      "hwclock.sh  procps  x11-common\n"
     ]
    }
   ],
   "source": [
    "# A simple variable example\n",
    "myvariable=Hello\n",
    "anothervar=Fred\n",
    "echo $myvariable $anothervar\n",
    "echo\n",
    "sampledir=/etc/init.d\n",
    "ls $sampledir"
   ]
  },
  {
   "cell_type": "code",
   "execution_count": 2,
   "metadata": {},
   "outputs": [
    {
     "name": "stdout",
     "output_type": "stream",
     "text": [
      "Hello World\n",
      "more Hello World\n",
      "More $myvar\n"
     ]
    }
   ],
   "source": [
    "myvar='Hello World'\n",
    "echo $myvar\n",
    "newvar=\"more $myvar\"\n",
    "echo $newvar\n",
    "newvar='More $myvar'\n",
    "echo $newvar\n"
   ]
  },
  {
   "cell_type": "code",
   "execution_count": 3,
   "metadata": {},
   "outputs": [
    {
     "name": "stdout",
     "output_type": "stream",
     "text": [
      "There are 124 entries in the directory /etc\n"
     ]
    }
   ],
   "source": [
    "myvar=$( ls /etc | wc -l )\n",
    "echo There are $myvar entries in the directory /etc\n"
   ]
  },
  {
   "cell_type": "code",
   "execution_count": 4,
   "metadata": {},
   "outputs": [
    {
     "name": "stdout",
     "output_type": "stream",
     "text": [
      "9\n",
      "9\n",
      "10\n",
      "20\n",
      "30\n"
     ]
    }
   ],
   "source": [
    "# Basic arithmetic using let\n",
    "let a=5+4\n",
    "echo $a # 9\n",
    "let \"a = 5 + 4\"\n",
    "echo $a # 9\n",
    "let a++\n",
    "echo $a # 10\n",
    "let \"a = 4 * 5\"\n",
    "echo $a # 20\n",
    "let \"a = $1 + 30\"\n",
    "echo $a # 30 + first command line argument"
   ]
  },
  {
   "cell_type": "code",
   "execution_count": 5,
   "metadata": {},
   "outputs": [
    {
     "name": "stdout",
     "output_type": "stream",
     "text": [
      "Username: \r\n"
     ]
    }
   ],
   "source": [
    "# read -p 'Username: ' uservar"
   ]
  },
  {
   "cell_type": "code",
   "execution_count": 6,
   "metadata": {},
   "outputs": [
    {
     "name": "stdout",
     "output_type": "stream",
     "text": [
      "Here is a summary of the sales data:\n",
      "====================================\n",
      "apples 20\n",
      "oranges 5\n",
      "peaches 7\n",
      "watermelons 12\n"
     ]
    }
   ],
   "source": [
    "cat 'sales-data.txt'"
   ]
  },
  {
   "cell_type": "code",
   "execution_count": null,
   "metadata": {},
   "outputs": [],
   "source": []
  },
  {
   "cell_type": "code",
   "execution_count": null,
   "metadata": {},
   "outputs": [],
   "source": []
  },
  {
   "cell_type": "code",
   "execution_count": 7,
   "metadata": {},
   "outputs": [
    {
     "name": "stdout",
     "output_type": "stream",
     "text": [
      "9\n",
      "8\n",
      "11\n",
      "12\n",
      "13\n",
      "16\n",
      "20\n"
     ]
    }
   ],
   "source": [
    "# Basic arithmetic using double parentheses\n",
    "a=$(( 4 + 5 ))\n",
    "echo $a # 9\n",
    "a=$((3+5))\n",
    "echo $a # 8\n",
    "b=$(( a + 3 ))\n",
    "echo $b # 11\n",
    "b=$(( $a + 4 ))\n",
    "echo $b # 12\n",
    "(( b++ ))\n",
    "echo $b # 13\n",
    "(( b += 3 ))\n",
    "echo $b # 16\n",
    "a=$(( 4 * 5 ))\n",
    "echo $a # 20"
   ]
  },
  {
   "cell_type": "code",
   "execution_count": 8,
   "metadata": {},
   "outputs": [
    {
     "name": "stdout",
     "output_type": "stream",
     "text": [
      "11\n",
      "4\n"
     ]
    }
   ],
   "source": [
    "# Show the length of a variable.\n",
    "a='Hello World'\n",
    "echo ${#a} # 11\n",
    "b=4953\n",
    "echo ${#b} # 4"
   ]
  },
  {
   "cell_type": "code",
   "execution_count": 9,
   "metadata": {},
   "outputs": [
    {
     "name": "stdout",
     "output_type": "stream",
     "text": [
      "Hey that's a large number.\n",
      "/home/jovyan/work\n"
     ]
    }
   ],
   "source": [
    "# Basic if statement\n",
    "if [ 1000 -gt 100 ]\n",
    "then\n",
    "echo Hey that\\'s a large number.\n",
    "pwd\n",
    "fi"
   ]
  },
  {
   "cell_type": "code",
   "execution_count": 10,
   "metadata": {},
   "outputs": [
    {
     "name": "stdout",
     "output_type": "stream",
     "text": [
      "1\n",
      "0\n",
      "1\n",
      "0\n",
      "0\n"
     ]
    }
   ],
   "source": [
    "# Perform a string based comparison. \n",
    "# Test doesn't print the result so instead we check it's exit status which is what we will do on the next line.\n",
    "test 001 = 1\n",
    "# The variable $? holds the exit status of the previously run command (in this case test). \n",
    "# 0 means TRUE (or success). 1 = FALSE (or failure).\n",
    "echo $? # FALSE, => 1\n",
    "\n",
    "# Numerical comparison => true\n",
    "test 001 -eq 1\n",
    "echo $?\n",
    "\n",
    "touch myfile\n",
    "test -s myfile # is size of the file > 0 ?\n",
    "echo $? # false (assumes that we created it)\n",
    "\n",
    "ls /etc > myfile\n",
    "test -s myfile # now will be true - has content\n",
    "echo $?\n",
    "\n",
    "rm myfile # clean up so that cell can run twice\n",
    "echo $?"
   ]
  },
  {
   "cell_type": "code",
   "execution_count": 11,
   "metadata": {},
   "outputs": [
    {
     "name": "stdout",
     "output_type": "stream",
     "text": [
      "Hey that's a large number.\n",
      "And is also an even number.\n"
     ]
    }
   ],
   "source": [
    "# Nested if statements\n",
    "AA=1000\n",
    "if [ $AA -gt 100 ]\n",
    "then\n",
    "    echo Hey that\\'s a large number.\n",
    "    if (( $AA % 2 == 0 ))\n",
    "    then\n",
    "        echo And is also an even number.\n",
    "    fi\n",
    "fi"
   ]
  },
  {
   "cell_type": "code",
   "execution_count": 12,
   "metadata": {},
   "outputs": [
    {
     "name": "stdout",
     "output_type": "stream",
     "text": [
      "You may not go to the party.\n"
     ]
    }
   ],
   "source": [
    "# elif statements\n",
    "AGE=17\n",
    "PERMIT=no\n",
    "\n",
    "if [ $AGE -ge 18 ]\n",
    "then\n",
    "    echo You may go to the party.\n",
    "elif [ $PERMIT == 'yes' ]\n",
    "then\n",
    "    echo You may go to the party but be back before midnight.\n",
    "else\n",
    "    echo You may not go to the party.\n",
    "fi"
   ]
  },
  {
   "cell_type": "code",
   "execution_count": 13,
   "metadata": {},
   "outputs": [
    {
     "name": "stdout",
     "output_type": "stream",
     "text": [
      "You may not go to the party.\n"
     ]
    }
   ],
   "source": [
    "AGE=17\n",
    "PERMIT=no\n",
    "\n",
    "if [ $AGE -ge 18 ]; then echo You may go to the party.; elif [ $PERMIT == 'yes' ]; then echo You may go to the party but be back before midnight.;else echo You may not go to the party.; fi"
   ]
  },
  {
   "cell_type": "code",
   "execution_count": 14,
   "metadata": {
    "scrolled": true
   },
   "outputs": [
    {
     "name": "stdout",
     "output_type": "stream",
     "text": [
      "This file is useful.\n"
     ]
    }
   ],
   "source": [
    "FILE=/etc/hosts\n",
    "if [ -r $FILE ] && [ -s $FILE ]\n",
    "then\n",
    "echo This file is useful.\n",
    "fi"
   ]
  },
  {
   "cell_type": "code",
   "execution_count": 15,
   "metadata": {},
   "outputs": [
    {
     "name": "stdout",
     "output_type": "stream",
     "text": [
      "Filesystem      Size  Used Avail Use% Mounted on\n",
      "overlay          63G   48G   12G  81% /\n",
      "tmpfs            64M     0   64M   0% /dev\n",
      "tmpfs           3.0G     0  3.0G   0% /sys/fs/cgroup\n",
      "/dev/sda1        63G   48G   12G  81% /etc/hosts\n",
      "shm              64M     0   64M   0% /dev/shm\n",
      "osxfs           932G  803G  119G  88% /home/jovyan/work\n",
      "tmpfs           3.0G     0  3.0G   0% /proc/acpi\n",
      "tmpfs           3.0G     0  3.0G   0% /sys/firmware\n",
      "Space = 88\n",
      "Maybe we should look at clearing out old files\n"
     ]
    }
   ],
   "source": [
    "# Print a message about disk useage.\n",
    "df -h\n",
    "space_free=$( df -h | awk '{ print $5 }' | sort -n | tail -n 1 | sed 's/%//' )\n",
    "echo Space = $space_free\n",
    "case $space_free in\n",
    "[1-5]*)\n",
    "echo Plenty of disk space available\n",
    ";;\n",
    "[6-7]*)\n",
    "echo There could be a problem in the near future\n",
    ";;\n",
    "8*)\n",
    "echo Maybe we should look at clearing out old files\n",
    ";;\n",
    "9*)\n",
    "echo We could have a serious problem on our hands soon\n",
    ";;\n",
    "*)\n",
    "echo Something is not quite right here\n",
    ";;\n",
    "esac"
   ]
  },
  {
   "cell_type": "code",
   "execution_count": 16,
   "metadata": {},
   "outputs": [
    {
     "name": "stdout",
     "output_type": "stream",
     "text": [
      "1\n",
      "2\n",
      "3\n",
      "4\n",
      "5\n",
      "6\n",
      "7\n",
      "8\n",
      "9\n",
      "10\n",
      "All done\n"
     ]
    }
   ],
   "source": [
    "# Basic while loop\n",
    "counter=1\n",
    "while [ $counter -le 10 ]\n",
    "do\n",
    "    echo $counter\n",
    "    ((counter++))\n",
    "done\n",
    "echo All done"
   ]
  },
  {
   "cell_type": "code",
   "execution_count": 17,
   "metadata": {},
   "outputs": [
    {
     "name": "stdout",
     "output_type": "stream",
     "text": [
      "Loop 1\n",
      "Loop 2\n",
      "Loop 3\n",
      "Loop 4\n",
      "Loop 5\n",
      "Loop 6\n",
      "Loop 7\n",
      "Loop 8\n",
      "Loop 9\n",
      "Loop 10\n",
      "All done\n"
     ]
    }
   ],
   "source": [
    "# Basic until loop\n",
    "counter=1\n",
    "\n",
    "until [ $counter -gt 10 ]\n",
    "do\n",
    "    echo Loop $counter\n",
    "    ((counter++))\n",
    "done\n",
    "echo All done"
   ]
  },
  {
   "cell_type": "code",
   "execution_count": 18,
   "metadata": {},
   "outputs": [
    {
     "name": "stdout",
     "output_type": "stream",
     "text": [
      "Stan\n",
      "Kyle\n",
      "Cartman\n",
      "All done\n"
     ]
    }
   ],
   "source": [
    "# The for loop will take each item in the list (in order, one after the other), \n",
    "# assign that item as the value of the variable var, execute the commands between do and done \n",
    "# then go back to the top, grab the next item in the list and repeat over.\n",
    "\n",
    "# The list is defined as a series of strings, separated by spaces.\n",
    "\n",
    "# Basic for loop\n",
    "names='Stan Kyle Cartman'\n",
    "for name in $names\n",
    "do\n",
    "    echo $name\n",
    "done\n",
    "echo All done"
   ]
  },
  {
   "cell_type": "code",
   "execution_count": 19,
   "metadata": {},
   "outputs": [
    {
     "name": "stdout",
     "output_type": "stream",
     "text": [
      "1\n",
      "2\n",
      "3\n",
      "4\n",
      "5\n",
      "All done\n"
     ]
    }
   ],
   "source": [
    "# Basic range in for loop\n",
    "# It's important when specifying a range like this that there are no spaces present between the curly brackets { }. \n",
    "# If there are then it will not be seen as a range but as a list of items.\n",
    "for value in {1..5}\n",
    "do\n",
    "    echo $value\n",
    "done\n",
    "echo All done"
   ]
  },
  {
   "cell_type": "code",
   "execution_count": 20,
   "metadata": {},
   "outputs": [
    {
     "name": "stdout",
     "output_type": "stream",
     "text": [
      "{\n",
      "1\n",
      "..\n",
      "5\n",
      "}\n",
      "All done\n"
     ]
    }
   ],
   "source": [
    "for value in { 1 .. 5 }\n",
    "do\n",
    "    echo $value\n",
    "done\n",
    "echo All done"
   ]
  },
  {
   "cell_type": "code",
   "execution_count": 21,
   "metadata": {},
   "outputs": [
    {
     "name": "stdout",
     "output_type": "stream",
     "text": [
      "10\n",
      "8\n",
      "6\n",
      "4\n",
      "2\n",
      "0\n",
      "All done\n"
     ]
    }
   ],
   "source": [
    "# Basic range with steps for loop\n",
    "for value in {10..0..2}\n",
    "do\n",
    " echo $value\n",
    "done\n",
    "echo All done"
   ]
  },
  {
   "cell_type": "code",
   "execution_count": 22,
   "metadata": {},
   "outputs": [
    {
     "name": "stdout",
     "output_type": "stream",
     "text": [
      "/etc/bash_completion.d /opt/bash_completion.php\n",
      "/etc/cron.d /opt/cron.php\n",
      "/etc/init.d /opt/init.php\n",
      "/etc/jed.d /opt/jed.php\n",
      "/etc/ld.so.conf.d /opt/ld.so.conf.php\n",
      "/etc/libpaper.d /opt/libpaper.php\n",
      "/etc/logrotate.d /opt/logrotate.php\n",
      "/etc/pam.d /opt/pam.php\n",
      "/etc/profile.d /opt/profile.php\n",
      "/etc/rc0.d /opt/rc0.php\n",
      "/etc/rc1.d /opt/rc1.php\n",
      "/etc/rc2.d /opt/rc2.php\n",
      "/etc/rc3.d /opt/rc3.php\n",
      "/etc/rc4.d /opt/rc4.php\n",
      "/etc/rc5.d /opt/rc5.php\n",
      "/etc/rc6.d /opt/rc6.php\n",
      "/etc/rcS.d /opt/rcS.php\n",
      "/etc/sensors.d /opt/sensors.php\n",
      "/etc/sudoers.d /opt/sudoers.php\n",
      "/etc/sysctl.d /opt/sysctl.php\n",
      "/etc/update-motd.d /opt/update-motd.php\n"
     ]
    }
   ],
   "source": [
    "DIR=/etc\n",
    "for value in $DIR/*.d\n",
    "do\n",
    "echo $value /opt/$( basename -s .d $value ).php\n",
    "done"
   ]
  },
  {
   "cell_type": "code",
   "execution_count": 23,
   "metadata": {},
   "outputs": [
    {
     "name": "stdout",
     "output_type": "stream",
     "text": [
      "Hello I am a function\n",
      "Hello I am a function\n"
     ]
    }
   ],
   "source": [
    "# Basic function\n",
    "print_something () {\n",
    "echo Hello I am a function\n",
    "}\n",
    "print_something\n",
    "print_something"
   ]
  },
  {
   "cell_type": "code",
   "execution_count": 24,
   "metadata": {},
   "outputs": [
    {
     "name": "stdout",
     "output_type": "stream",
     "text": [
      "Hello Mars\n",
      "Hello Jupiter\n"
     ]
    }
   ],
   "source": [
    "# Passing arguments to a function\n",
    "print_something () {\n",
    "echo Hello $1\n",
    "}\n",
    "print_something Mars\n",
    "print_something Jupiter"
   ]
  },
  {
   "cell_type": "code",
   "execution_count": 25,
   "metadata": {},
   "outputs": [
    {
     "name": "stdout",
     "output_type": "stream",
     "text": [
      "Hello Mars\n",
      "Hello Jupiter\n",
      "The previous function has a return value of 5\n"
     ]
    }
   ],
   "source": [
    "print_something () {\n",
    "echo Hello $1\n",
    "return 5\n",
    "}\n",
    "print_something Mars\n",
    "print_something Jupiter\n",
    "echo The previous function has a return value of $?"
   ]
  },
  {
   "cell_type": "code",
   "execution_count": 26,
   "metadata": {},
   "outputs": [
    {
     "name": "stdout",
     "output_type": "stream",
     "text": [
      "Before function call: var1 is global 1 : var2 is global 2\n",
      "Inside function: var1 is local 1 : var2 is global 2\n",
      "After function call: var1 is global 1 : var2 is 2 changed again\n"
     ]
    }
   ],
   "source": [
    "# Experimenting with variable scope\n",
    "var_change () {\n",
    "local var1='local 1'\n",
    "echo Inside function: var1 is $var1 : var2 is $var2\n",
    "var1='changed again'\n",
    "var2='2 changed again'\n",
    "}\n",
    "var1='global 1'\n",
    "var2='global 2'\n",
    "echo Before function call: var1 is $var1 : var2 is $var2\n",
    "var_change\n",
    "echo After function call: var1 is $var1 : var2 is $var2"
   ]
  },
  {
   "cell_type": "code",
   "execution_count": 31,
   "metadata": {},
   "outputs": [
    {
     "name": "stdout",
     "output_type": "stream",
     "text": [
      "Filesystem      Size  Used Avail Use% Mounted on\n",
      "overlay          63G   48G   12G  81% /\n",
      "tmpfs            64M     0   64M   0% /dev\n",
      "tmpfs           3.0G     0  3.0G   0% /sys/fs/cgroup\n",
      "/dev/sda1        63G   48G   12G  81% /etc/hosts\n",
      "shm              64M     0   64M   0% /dev/shm\n",
      "osxfs           932G  803G  119G  88% /home/jovyan/work\n",
      "tmpfs           3.0G     0  3.0G   0% /proc/acpi\n",
      "tmpfs           3.0G     0  3.0G   0% /sys/firmware\n",
      "Filesystem      Size  Used Avail Use% Mounted on\n",
      "overlay          63G   48G   12G  81% /\n",
      "tmpfs            64M     0   64M   0% /dev\n",
      "tmpfs           3.0G     0  3.0G   0% /sys/fs/cgroup\n",
      "/dev/sda1        63G   48G   12G  81% /etc/hosts\n",
      "shm              64M     0   64M   0% /dev/shm\n",
      "osxfs           932G  803G  119G  88% /home/jovyan/work\n",
      "tmpfs           3.0G     0  3.0G   0% /proc/acpi\n",
      "tmpfs           3.0G     0  3.0G   0% /sys/firmware\n"
     ]
    }
   ],
   "source": [
    "# Create a wrapper around the command ls\n",
    "du\n",
    "du () {\n",
    "command df -h\n",
    "}\n",
    "\n",
    "du"
   ]
  }
 ],
 "metadata": {
  "kernelspec": {
   "display_name": "Bash",
   "language": "bash",
   "name": "bash"
  },
  "language_info": {
   "codemirror_mode": "shell",
   "file_extension": ".sh",
   "mimetype": "text/x-sh",
   "name": "bash"
  }
 },
 "nbformat": 4,
 "nbformat_minor": 2
}
