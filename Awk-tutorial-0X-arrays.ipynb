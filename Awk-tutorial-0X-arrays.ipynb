{
 "cells": [
  {
   "cell_type": "markdown",
   "metadata": {},
   "source": [
    "# Lesson 03: Arrays\n",
    "\n",
    "Awk provides a limited number of data structures. Besides scalar and string variables, an array data structure is built into the language. While officially called \"arrays\", this structure is actually an associtiave array, analgous to a Python dict data structure.\n",
    "\n",
    "Arrays don't need to be initialized. You can just start assigning. Notice that keys can be numeric or strings."
   ]
  },
  {
   "cell_type": "code",
   "execution_count": 4,
   "metadata": {},
   "outputs": [
    {
     "name": "stdout",
     "output_type": "stream",
     "text": [
      "GNU Awk 4.1.4, API: 1.1 (GNU MPFR 4.0.1, GNU MP 6.1.2)\n",
      "Copyright (C) 1989, 1991-2016 Free Software Foundation.\n",
      "\n",
      "This program is free software; you can redistribute it and/or modify\n",
      "it under the terms of the GNU General Public License as published by\n",
      "the Free Software Foundation; either version 3 of the License, or\n",
      "(at your option) any later version.\n",
      "\n",
      "This program is distributed in the hope that it will be useful,\n",
      "but WITHOUT ANY WARRANTY; without even the implied warranty of\n",
      "MERCHANTABILITY or FITNESS FOR A PARTICULAR PURPOSE.  See the\n",
      "GNU General Public License for more details.\n",
      "\n",
      "You should have received a copy of the GNU General Public License\n",
      "along with this program. If not, see http://www.gnu.org/licenses/.\n"
     ]
    }
   ],
   "source": [
    "awk --version\n"
   ]
  },
  {
   "cell_type": "code",
   "execution_count": 1,
   "metadata": {},
   "outputs": [
    {
     "name": "stdout",
     "output_type": "stream",
     "text": [
      "1.1 0 CAT\n"
     ]
    }
   ],
   "source": [
    "awk 'BEGIN { \\\n",
    "      a[0] = 1.1; \\\n",
    "      a[0.83] = 0; \\\n",
    "      a[\"DOG\"] = \"CAT\"; \\\n",
    "      print a[0], a[0.83], a[\"DOG\"] \\\n",
    "     }'"
   ]
  },
  {
   "cell_type": "code",
   "execution_count": 2,
   "metadata": {},
   "outputs": [
    {
     "name": "stdout",
     "output_type": "stream",
     "text": [
      "awk: cmd. line:3: fatal: attempt to use array `a' in a scalar context\n"
     ]
    },
    {
     "ename": "",
     "evalue": "2",
     "output_type": "error",
     "traceback": []
    }
   ],
   "source": [
    "# Awk won't print an un-indexed array:\n",
    "awk 'BEGIN { \\\n",
    "      a[\"DOG\"] = \"CAT\"; \\\n",
    "      print a \\\n",
    "     }'"
   ]
  },
  {
   "cell_type": "code",
   "execution_count": 3,
   "metadata": {},
   "outputs": [
    {
     "name": "stdout",
     "output_type": "stream",
     "text": [
      "CAT\n",
      "0\n",
      "1.1\n"
     ]
    }
   ],
   "source": [
    "# ... However, we can loop through the keys using for:\n",
    "\n",
    "awk 'BEGIN { \\\n",
    "      a[0] = 1.1; \\\n",
    "      a[0.83] = 0; \\\n",
    "      a[\"DOG\"] = \"CAT\"; \\\n",
    "      for(k in a) print(a[k]) \\\n",
    "      }'"
   ]
  }
 ],
 "metadata": {
  "kernelspec": {
   "display_name": "Bash",
   "language": "bash",
   "name": "bash"
  },
  "language_info": {
   "codemirror_mode": "shell",
   "file_extension": ".sh",
   "mimetype": "text/x-sh",
   "name": "bash"
  }
 },
 "nbformat": 4,
 "nbformat_minor": 2
}
