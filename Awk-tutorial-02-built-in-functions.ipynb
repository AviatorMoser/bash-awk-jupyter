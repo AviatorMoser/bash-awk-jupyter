{
 "cells": [
  {
   "cell_type": "markdown",
   "metadata": {},
   "source": [
    "# Lesson 02: Built-in Functions\n",
    "Awk comes with a variety of built-in functions. They are specified in the MAN page - https://linux.die.net/man/1/awk"
   ]
  },
  {
   "cell_type": "markdown",
   "metadata": {},
   "source": [
    "## Math functions\n",
    "Basic mathematical functions are available:"
   ]
  },
  {
   "cell_type": "code",
   "execution_count": 1,
   "metadata": {},
   "outputs": [
    {
     "name": "stdout",
     "output_type": "stream",
     "text": [
      "2.71828 1 1.41421 9.26536e-05 -1 1.00387\n"
     ]
    }
   ],
   "source": [
    "awk -v pi=3.1415 'BEGIN {print exp(1), log(exp(1)), sqrt(2), sin(pi), cos(pi), atan2(pi, 2) }'\n"
   ]
  },
  {
   "cell_type": "code",
   "execution_count": 2,
   "metadata": {},
   "outputs": [
    {
     "name": "stdout",
     "output_type": "stream",
     "text": [
      "awk: line 1: syntax error at or near ;\n",
      "awk: line 1: syntax error at or near }\n"
     ]
    },
    {
     "ename": "",
     "evalue": "2",
     "output_type": "error",
     "traceback": []
    }
   ],
   "source": [
    "# It can also generate random numbers on (0, 1).\n",
    "awk 'BEGIN { print rand; print rand }'"
   ]
  }
 ],
 "metadata": {
  "kernelspec": {
   "display_name": "Bash",
   "language": "bash",
   "name": "bash"
  },
  "language_info": {
   "codemirror_mode": "shell",
   "file_extension": ".sh",
   "mimetype": "text/x-sh",
   "name": "bash"
  }
 },
 "nbformat": 4,
 "nbformat_minor": 2
}
