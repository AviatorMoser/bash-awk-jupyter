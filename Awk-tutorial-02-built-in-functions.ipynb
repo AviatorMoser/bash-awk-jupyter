{
 "cells": [
  {
   "cell_type": "markdown",
   "metadata": {},
   "source": [
    "# Lesson 02: Built-in Functions\n",
    "Awk comes with a variety of built-in functions. They are specified in the MAN page - https://linux.die.net/man/1/awk"
   ]
  },
  {
   "cell_type": "markdown",
   "metadata": {},
   "source": [
    "## Math functions\n",
    "Basic mathematical functions are available:"
   ]
  },
  {
   "cell_type": "code",
   "execution_count": 6,
   "metadata": {},
   "outputs": [
    {
     "name": "stdout",
     "output_type": "stream",
     "text": [
      "GNU Awk 4.1.4, API: 1.1 (GNU MPFR 4.0.1, GNU MP 6.1.2)\n",
      "Copyright (C) 1989, 1991-2016 Free Software Foundation.\n",
      "\n",
      "This program is free software; you can redistribute it and/or modify\n",
      "it under the terms of the GNU General Public License as published by\n",
      "the Free Software Foundation; either version 3 of the License, or\n",
      "(at your option) any later version.\n",
      "\n",
      "This program is distributed in the hope that it will be useful,\n",
      "but WITHOUT ANY WARRANTY; without even the implied warranty of\n",
      "MERCHANTABILITY or FITNESS FOR A PARTICULAR PURPOSE.  See the\n",
      "GNU General Public License for more details.\n",
      "\n",
      "You should have received a copy of the GNU General Public License\n",
      "along with this program. If not, see http://www.gnu.org/licenses/.\n"
     ]
    }
   ],
   "source": [
    "awk --version"
   ]
  },
  {
   "cell_type": "code",
   "execution_count": 7,
   "metadata": {},
   "outputs": [
    {
     "name": "stdout",
     "output_type": "stream",
     "text": [
      "2.71828 1 1.41421 9.26536e-05 -1 1.00387\n"
     ]
    }
   ],
   "source": [
    "awk -v pi=3.1415 'BEGIN {print exp(1), log(exp(1)), sqrt(2), sin(pi), cos(pi), atan2(pi, 2) }'\n"
   ]
  },
  {
   "cell_type": "code",
   "execution_count": 11,
   "metadata": {},
   "outputs": [
    {
     "name": "stdout",
     "output_type": "stream",
     "text": [
      "0.237788\n",
      "0.291066\n",
      "\n",
      "0.237788\n",
      "0.291066\n"
     ]
    }
   ],
   "source": [
    "# It can also generate random numbers on (0, 1).\n",
    "awk 'BEGIN { print rand(); print rand(); }'\n",
    "echo\n",
    "awk 'BEGIN { print rand(); print rand(); }'"
   ]
  },
  {
   "cell_type": "code",
   "execution_count": 12,
   "metadata": {},
   "outputs": [
    {
     "name": "stdout",
     "output_type": "stream",
     "text": [
      "0.255219\n",
      "0.898883\n"
     ]
    }
   ],
   "source": [
    "# The srand function can be used to set the seed:\n",
    "\n",
    "awk 'BEGIN { srand(10); print rand(); print rand() }'\n"
   ]
  },
  {
   "cell_type": "code",
   "execution_count": 13,
   "metadata": {
    "scrolled": true
   },
   "outputs": [
    {
     "name": "stdout",
     "output_type": "stream",
     "text": [
      "int(0.9)  =  0\n",
      "int(-0.9) = 0\n"
     ]
    }
   ],
   "source": [
    "# The int function returns \"the nearest integer to x, located between x and zero and truncated toward zero\".\n",
    "awk 'BEGIN { print \"int(0.9)  =  \" int(0.9); print \"int(-0.9) = \" int(-0.9) }'"
   ]
  },
  {
   "cell_type": "markdown",
   "metadata": {},
   "source": [
    "## String functions\n",
    "\n"
   ]
  },
  {
   "cell_type": "code",
   "execution_count": 15,
   "metadata": {},
   "outputs": [
    {
     "name": "stdout",
     "output_type": "stream",
     "text": [
      "Roses are red,\n",
      "Violets are blue,\n",
      "Sugar is sweet,\n",
      "And so are you.\n",
      "\n",
      "Roses ose\n",
      "Violets iol\n",
      "Sugar uga\n",
      "And nd\n"
     ]
    }
   ],
   "source": [
    "### substr\n",
    "\n",
    "# The substr(s, m, n) function will select n-character substring of s that begins at position m counted from 1.\n",
    "\n",
    "cat ./data/field_data.txt\n",
    "echo\n",
    "awk '{ print $1, substr($1, 2, 3) }' ./data/field_data.txt"
   ]
  },
  {
   "cell_type": "code",
   "execution_count": 16,
   "metadata": {},
   "outputs": [
    {
     "name": "stdout",
     "output_type": "stream",
     "text": [
      "Roses 3\n",
      "Violets 7\n",
      "Sugar 0\n",
      "And 0\n"
     ]
    }
   ],
   "source": [
    "### index\n",
    "# index(s, t) returns `the position in s where the string t occurs, or 0 if it does not.``\n",
    "\n",
    "# index's pattern is NOT a regular expression.\n",
    "\n",
    "awk '{ print $1, index($1, \"s\") }' ./data/field_data.txt\n"
   ]
  },
  {
   "cell_type": "code",
   "execution_count": 17,
   "metadata": {},
   "outputs": [
    {
     "name": "stdout",
     "output_type": "stream",
     "text": [
      "Roses 3\n",
      "Violets 7\n",
      "Sugar 1\n",
      "And 0\n"
     ]
    }
   ],
   "source": [
    "### match\n",
    "# match(s, r) returns the position in s where the regular expression r occurs, or 0 if it does not. \n",
    "# The  variables RSTART and RLENGTH are set to the position and length of the matched string.\n",
    "\n",
    "# match is like index except the patten is a regular expression.\n",
    "\n",
    "awk '{ print $1, match($1, \"[sS]\") }' ./data/field_data.txt"
   ]
  },
  {
   "cell_type": "code",
   "execution_count": 18,
   "metadata": {},
   "outputs": [
    {
     "name": "stdout",
     "output_type": "stream",
     "text": [
      "a \tpattern start: 0 \tpattern end: -1\n",
      "bb \tpattern start: 0 \tpattern end: -1\n",
      "ccc \tpattern start: 1 \tpattern end: 3\n",
      "dddd \tpattern start: 1 \tpattern end: 3\n",
      "ggg \tpattern start: 1 \tpattern end: 3\n",
      "hh \tpattern start: 0 \tpattern end: -1\n",
      "i \tpattern start: 0 \tpattern end: -1\n"
     ]
    }
   ],
   "source": [
    "# \"Find three or more repeated letters\"\n",
    "awk '{ match($1, \"[a-z]{3}\"); print $1, \"\\tpattern start:\", RSTART, \"\\tpattern end:\", RLENGTH }' ./data/letters.txt"
   ]
  },
  {
   "cell_type": "code",
   "execution_count": 19,
   "metadata": {},
   "outputs": [
    {
     "name": "stdout",
     "output_type": "stream",
     "text": [
      "awk: cmd. line:1: warning: escape sequence `\\-' treated as plain `-'\n",
      "6 was best\n"
     ]
    }
   ],
   "source": [
    "### split\n",
    "# split(s, a, fs) splits  the string s into array elements a[1], a[2], ..., a[n], and returns n.\n",
    "\n",
    "# The separation is done with the regular expression fs or with the field separator FS if fs is not given.   \n",
    "# An empty string as field separator splits the string into one array element per character.\n",
    "\n",
    "awk 'BEGIN { print split(\"It-was_the-best_of-times\", output_array, \"[\\-_]\"), output_array[2], output_array[4] }'"
   ]
  },
  {
   "cell_type": "code",
   "execution_count": 20,
   "metadata": {},
   "outputs": [
    {
     "name": "stdout",
     "output_type": "stream",
     "text": [
      "Num. matches replaced: 1\n",
      "It was the best of gifs, it was the worst of times\n"
     ]
    }
   ],
   "source": [
    "### sub\n",
    "# sub(r, t, s) substitutes  t  for the first occurrence of the regular expression r in the string s.  \n",
    "# If s is not given, $0 is used.\n",
    "\n",
    "# The s must be a variable which sub modifies in place. \n",
    "# Instead of returning the substituted string, it returns the number of substitutions made (0 or 1).\n",
    "\n",
    "awk 'BEGIN { s = \"It was the best of times, it was the worst of times\"; \\\n",
    "             print \"Num. matches replaced:\",  sub(\"times\", \"gifs\", s ); \\\n",
    "             print s  }'\n"
   ]
  },
  {
   "cell_type": "code",
   "execution_count": 21,
   "metadata": {},
   "outputs": [
    {
     "name": "stdout",
     "output_type": "stream",
     "text": [
      "Num. matches replaced: 2\n",
      "It was the best of cats, it was the worst of cats\n"
     ]
    }
   ],
   "source": [
    "### gsub\n",
    "# gsub does the same as sub except that all occurrences of the regular expression are replaced; \n",
    "# sub and gsub return the number of replacements.\n",
    "\n",
    "awk 'BEGIN { s = \"It was the best of times, it was the worst of times\"; \\\n",
    "             print \"Num. matches replaced:\", gsub(\"times\", \"cats\", s ); \\\n",
    "             print s  }'"
   ]
  },
  {
   "cell_type": "code",
   "execution_count": 22,
   "metadata": {},
   "outputs": [
    {
     "name": "stdout",
     "output_type": "stream",
     "text": [
      "[   3.142]\n"
     ]
    }
   ],
   "source": [
    "### sprintf\n",
    "# sprintf(fmt, expr, ... ) returns the string resulting from formatting expr ...  \n",
    "# according to the printf(3) format fmt\n",
    "\n",
    "awk 'BEGIN { x = sprintf(\"[%8.3f]\", 3.141592654); print x }'"
   ]
  }
 ],
 "metadata": {
  "kernelspec": {
   "display_name": "Bash",
   "language": "bash",
   "name": "bash"
  },
  "language_info": {
   "codemirror_mode": "shell",
   "file_extension": ".sh",
   "mimetype": "text/x-sh",
   "name": "bash"
  }
 },
 "nbformat": 4,
 "nbformat_minor": 2
}
