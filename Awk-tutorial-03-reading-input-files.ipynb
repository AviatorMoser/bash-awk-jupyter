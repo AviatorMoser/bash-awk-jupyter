{
 "cells": [
  {
   "cell_type": "markdown",
   "metadata": {},
   "source": [
    "# Reading input files\n",
    "\n",
    "https://www.gnu.org/software/gawk/manual/html_node/Reading-Files.html#Reading-Files\n",
    "\n",
    "awk reads all input either from the standard input (by default, this is the keyboard, but often it is a pipe from another command) or from files whose names you specify on the awk command line. If you specify input files, awk reads them in order, processing all the data from one before going on to the next. The name of the current input file can be found in the predefined variable FILENAME (see Built-in Variables).\n",
    "\n",
    "The input is read in units called records, and is processed by the rules of your program one record at a time. By default, each record is one line. Each record is automatically split into chunks called fields. This makes it more convenient for programs to work on the parts of a record.\n",
    "\n",
    "On rare occasions, you may need to use the getline command. The getline command is valuable both because it can do explicit input from any number of files, and because the files used with it do not have to be named on the awk command line (see Getline).\n",
    "\n",
    "## Record splitting\n",
    "\n",
    "### Record Splitting with Standard awk"
   ]
  },
  {
   "cell_type": "code",
   "execution_count": 4,
   "metadata": {},
   "outputs": [
    {
     "name": "stdout",
     "output_type": "stream",
     "text": [
      "Amelia       555-5553     amelia.zodiacusque@gmail.com    F\n",
      "Anthony      555-3412     anthony.asserturo@hotmail.com   A\n",
      "Becky        555-7685     becky.algebrarum@gmail.com      A\n",
      "Bill         555-1675     bill.drowning@hotmail.com       A\n",
      "Broderick    555-0542     broderick.aliquotiens@yahoo.com R\n",
      "Camilla      555-2912     camilla.infusarum@skynet.be     R\n",
      "Fabius       555-1234     fabius.undevicesimus@ucb.edu    F\n",
      "Julie        555-6699     julie.perscrutabor@skeeve.com   F\n",
      "Martin       555-6480     martin.codicibus@hotmail.com    A\n",
      "Samuel       555-3430     samuel.lanceolis@shu.edu        A\n",
      "Jean-Paul    555-2127     jeanpaul.campanorum@nyu.edu     R\n",
      "--- Same with record numbers\n",
      "1 Amelia       555-5553     amelia.zodiacusque@gmail.com    F\n",
      "2 Anthony      555-3412     anthony.asserturo@hotmail.com   A\n",
      "3 Becky        555-7685     becky.algebrarum@gmail.com      A\n",
      "4 Bill         555-1675     bill.drowning@hotmail.com       A\n",
      "5 Broderick    555-0542     broderick.aliquotiens@yahoo.com R\n",
      "6 Camilla      555-2912     camilla.infusarum@skynet.be     R\n",
      "7 Fabius       555-1234     fabius.undevicesimus@ucb.edu    F\n",
      "8 Julie        555-6699     julie.perscrutabor@skeeve.com   F\n",
      "9 Martin       555-6480     martin.codicibus@hotmail.com    A\n",
      "10 Samuel       555-3430     samuel.lanceolis@shu.edu        A\n",
      "11 Jean-Paul    555-2127     jeanpaul.campanorum@nyu.edu     R\n"
     ]
    }
   ],
   "source": [
    "# Default RS is newline\n",
    "awk '{ print $0 }' data/mail_data.txt\n",
    "echo --- Same with record numbers\n",
    "awk '{ print NR,$0 }' data/mail_data.txt\n"
   ]
  },
  {
   "cell_type": "code",
   "execution_count": 3,
   "metadata": {
    "scrolled": true
   },
   "outputs": [
    {
     "name": "stdout",
     "output_type": "stream",
     "text": [
      "1 Amelia       555-5553     amelia.zodiac\n",
      "2 sq\n",
      "3 e@gmail.com    F\n",
      "Anthony      555-3412     anthony.assert\n",
      "4 ro@hotmail.com   A\n",
      "Becky        555-7685     becky.algebrar\n",
      "5 m@gmail.com      A\n",
      "Bill         555-1675     bill.drowning@hotmail.com       A\n",
      "Broderick    555-0542     broderick.aliq\n",
      "6 otiens@yahoo.com R\n",
      "Camilla      555-2912     camilla.inf\n",
      "7 sar\n",
      "8 m@skynet.be     R\n",
      "Fabi\n",
      "9 s       555-1234     fabi\n",
      "10 s.\n",
      "11 ndevicesim\n",
      "12 s@\n",
      "13 cb.ed\n",
      "14     F\n",
      "J\n",
      "15 lie        555-6699     j\n",
      "16 lie.perscr\n",
      "17 tabor@skeeve.com   F\n",
      "Martin       555-6480     martin.codicib\n",
      "18 s@hotmail.com    A\n",
      "Sam\n",
      "19 el       555-3430     sam\n",
      "20 el.lanceolis@sh\n",
      "21 .ed\n",
      "22         A\n",
      "Jean-Pa\n",
      "23 l    555-2127     jeanpa\n",
      "24 l.campanor\n",
      "25 m@ny\n",
      "26 .ed\n",
      "27      R\n"
     ]
    }
   ],
   "source": [
    "# Consider U is a record separator\n",
    "awk 'BEGIN { RS = \"u\" }\n",
    "     { print NR,$0 }' data/mail_data.txt\n",
    "     \n",
    "# Note that existing newlines are still printed, just not record separators"
   ]
  },
  {
   "cell_type": "code",
   "execution_count": 5,
   "metadata": {
    "scrolled": true
   },
   "outputs": [
    {
     "name": "stdout",
     "output_type": "stream",
     "text": [
      "1 Amelia       555-5553     amelia.zodiac\n",
      "2 sq\n",
      "3 e@gmail.com    F\n",
      "Anthony      555-3412     anthony.assert\n",
      "4 ro@hotmail.com   A\n",
      "Becky        555-7685     becky.algebrar\n",
      "5 m@gmail.com      A\n",
      "Bill         555-1675     bill.drowning@hotmail.com       A\n",
      "Broderick    555-0542     broderick.aliq\n",
      "6 otiens@yahoo.com R\n",
      "Camilla      555-2912     camilla.inf\n",
      "7 sar\n",
      "8 m@skynet.be     R\n",
      "Fabi\n",
      "9 s       555-1234     fabi\n",
      "10 s.\n",
      "11 ndevicesim\n",
      "12 s@\n",
      "13 cb.ed\n",
      "14     F\n",
      "J\n",
      "15 lie        555-6699     j\n",
      "16 lie.perscr\n",
      "17 tabor@skeeve.com   F\n",
      "Martin       555-6480     martin.codicib\n",
      "18 s@hotmail.com    A\n",
      "Sam\n",
      "19 el       555-3430     sam\n",
      "20 el.lanceolis@sh\n",
      "21 .ed\n",
      "22         A\n",
      "Jean-Pa\n",
      "23 l    555-2127     jeanpa\n",
      "24 l.campanor\n",
      "25 m@ny\n",
      "26 .ed\n",
      "27      R\n"
     ]
    }
   ],
   "source": [
    "# same can be done on command line\n",
    "awk '{ print NR,$0 }' RS=\"u\" data/mail_data.txt"
   ]
  },
  {
   "cell_type": "markdown",
   "metadata": {},
   "source": [
    "### Record Splitting with gawk\n",
    "\n",
    "When using gawk, the value of RS is not limited to a one-character string. It can be any regular expression.\n",
    "\n",
    "When RS is a single character, RT contains the same single character. However, when RS is a regular expression, RT contains the actual input text that matched the regular expression.\n",
    "\n",
    "If the input file ends without any text matching RS, gawk sets RT to the null string."
   ]
  },
  {
   "cell_type": "code",
   "execution_count": 6,
   "metadata": {},
   "outputs": [
    {
     "name": "stdout",
     "output_type": "stream",
     "text": [
      "Record = record 1 and RT = [ AAAA ]\n",
      "Record = record 2 and RT = [ BBBB ]\n",
      "Record = record 3 and RT = [\n",
      "]\n"
     ]
    }
   ],
   "source": [
    "# sets RS equal to a regular expression that matches either a newline or a series of one or more uppercase letters \n",
    "# with optional leading and/or trailing whitespace:\n",
    "\n",
    "echo record 1 AAAA record 2 BBBB record 3 |\n",
    "gawk 'BEGIN { RS = \"\\n|( *[[:upper:]]+ *)\" }\n",
    "             { print \"Record =\", $0,\"and RT = [\" RT \"]\" }'"
   ]
  },
  {
   "cell_type": "markdown",
   "metadata": {},
   "source": [
    "## Fields\n",
    "\n",
    "When awk reads an input record, the record is automatically parsed or separated by the awk utility into chunks called fields. By default, fields are separated by whitespace, like words in a line. Whitespace in awk means any string of one or more spaces, TABs, or newlines; other characters that are considered whitespace by other languages (such as formfeed, vertical tab, etc.) are not considered whitespace by awk.\n",
    "\n",
    "The purpose of fields is to make it more convenient for you to refer to these pieces of the record. You don’t have to use them—you can operate on the whole record if you want—but fields are what make simple awk programs so powerful.\n",
    "\n",
    "```\n",
    "You use a dollar sign $ to refer to a field in an awk program, followed by the number of the field you want. Thus, $1 refers to the first field, $2 to the second, and so on. Unlike in the Unix shells, the field numbers are not limited to single digits. $127 is the 127th field in the record. \n",
    "```\n",
    "\n",
    "NF is a predefined variable whose value is the number of fields in the current record. awk automatically updates the value of NF each time it reads a record. No matter how many fields there are, the last field in a record can be represented by $NF. \n",
    "\n",
    "The use of $0, which looks like a reference to the “zeroth” field, is a special case: it represents the whole input record."
   ]
  },
  {
   "cell_type": "code",
   "execution_count": 7,
   "metadata": {},
   "outputs": [
    {
     "name": "stdout",
     "output_type": "stream",
     "text": [
      "Amelia       555-5553     amelia.zodiacusque@gmail.com    F\n",
      "Julie        555-6699     julie.perscrutabor@skeeve.com   F\n"
     ]
    }
   ],
   "source": [
    "# Search for li in first field only\n",
    "awk '$1 ~ /li/ { print $0 }' data/mail_data.txt\n"
   ]
  },
  {
   "cell_type": "code",
   "execution_count": 8,
   "metadata": {},
   "outputs": [
    {
     "name": "stdout",
     "output_type": "stream",
     "text": [
      "Amelia F\n",
      "Broderick R\n",
      "Julie F\n",
      "Samuel A\n"
     ]
    }
   ],
   "source": [
    "# search for LI in whole record\n",
    "awk '/li/ { print $1, $NF }' data/mail_data.txt"
   ]
  },
  {
   "cell_type": "code",
   "execution_count": 10,
   "metadata": {},
   "outputs": [
    {
     "name": "stdout",
     "output_type": "stream",
     "text": [
      "1 Amelia\n",
      "2 555-3412\n",
      "3 becky.algebrarum@gmail.com\n",
      "4 A\n",
      "5 \n",
      "6 \n",
      "7 \n",
      "8 \n",
      "9 \n",
      "10 \n",
      "11 \n"
     ]
    }
   ],
   "source": [
    "# Nonconstant Field Numbers\n",
    "awk '{ print NR, $NR }' data/mail_data.txt\n",
    "# prints i-th field from record, where i = 1 ... Number of records"
   ]
  },
  {
   "cell_type": "code",
   "execution_count": 11,
   "metadata": {},
   "outputs": [
    {
     "name": "stdout",
     "output_type": "stream",
     "text": [
      "F\n",
      "A\n",
      "A\n",
      "A\n",
      "R\n",
      "R\n",
      "F\n",
      "F\n",
      "A\n",
      "A\n",
      "R\n"
     ]
    }
   ],
   "source": [
    "# Same as print $4\n",
    "awk '{ print $(2*2) }' data/mail_data.txt"
   ]
  },
  {
   "cell_type": "markdown",
   "metadata": {},
   "source": [
    "### Changing the Contents of a Field\n",
    "\n",
    "The contents of a field, as seen by awk, can be changed within an awk program; this changes what awk perceives as the current input record. The actual input is untouched; awk never modifies the input file."
   ]
  },
  {
   "cell_type": "code",
   "execution_count": 12,
   "metadata": {},
   "outputs": [
    {
     "name": "stdout",
     "output_type": "stream",
     "text": [
      "25 15\n",
      "32 22\n",
      "24 14\n",
      "52 42\n",
      "34 24\n",
      "42 32\n",
      "34 24\n",
      "34 24\n",
      "55 45\n",
      "54 44\n",
      "87 77\n",
      "35 25\n",
      " -10\n",
      "36 26\n",
      "58 48\n",
      "75 65\n",
      "70 60\n"
     ]
    }
   ],
   "source": [
    "awk '{ nboxes = $3 ; $3 = $3 - 10; print nboxes, $3 }' data/inventory_shipped.txt"
   ]
  },
  {
   "cell_type": "code",
   "execution_count": 15,
   "metadata": {},
   "outputs": [
    {
     "name": "stdout",
     "output_type": "stream",
     "text": [
      "Jan  13  25  15 115\n",
      "Feb  15  32  24 226\n",
      "Mar  15  24  34 228\n",
      "Apr  31  52  63 420\n",
      "May  16  34  29 208\n",
      "Jun  31  42  75 492\n",
      "Jul  24  34  67 436\n",
      "Aug  15  34  47 316\n",
      "Sep  13  55  37 277\n",
      "Oct  29  54  68 525\n",
      "Nov  20  87  82 577\n",
      "Dec  17  35  61 401\n",
      "\n",
      "Jan  21  36  64 620\n",
      "Feb  26  58  80 652\n",
      "Mar  24  75  70 495\n",
      "Apr  21  70  74 514\n",
      "-------\n",
      "Jan 3 25 15 115\n",
      "Feb 5 32 24 226\n",
      "Mar 5 24 34 228\n",
      "Apr 21 52 63 420\n",
      "May 6 34 29 208\n",
      "Jun 21 42 75 492\n",
      "Jul 14 34 67 436\n",
      "Aug 5 34 47 316\n",
      "Sep 3 55 37 277\n",
      "Oct 19 54 68 525\n",
      "Nov 10 87 82 577\n",
      "Dec 7 35 61 401\n",
      " -10\n",
      "Jan 11 36 64 620\n",
      "Feb 16 58 80 652\n",
      "Mar 14 75 70 495\n",
      "Apr 11 70 74 514\n"
     ]
    }
   ],
   "source": [
    "# When the value of a field is changed (as perceived by awk), the text of the input record is recalculated \n",
    "# to contain the new field where the old one was. In other words, $0 changes to reflect the altered field. \n",
    "# Thus, this program prints a copy of the input file, with 10 subtracted from the second field of each line:\n",
    "\n",
    "cat data/inventory_shipped.txt\n",
    "echo\n",
    "echo -------\n",
    "awk '{ $2 = $2 - 10; print $0 }' data/inventory_shipped.txt"
   ]
  },
  {
   "cell_type": "code",
   "execution_count": 21,
   "metadata": {},
   "outputs": [
    {
     "name": "stdout",
     "output_type": "stream",
     "text": [
      "155\n",
      "282\n",
      "286\n",
      "535\n",
      "271\n",
      "609\n",
      "537\n",
      "397\n",
      "369\n",
      "647\n",
      "746\n",
      "497\n",
      "0\n",
      "720\n",
      "790\n",
      "640\n",
      "658\n"
     ]
    }
   ],
   "source": [
    "# It is also possible to assign contents to fields that are out of range. For example:\n",
    "\n",
    "awk '{ $6 = ($5 + $4 + $3)\n",
    "       print $6 }' data/inventory_shipped.txt"
   ]
  },
  {
   "cell_type": "markdown",
   "metadata": {},
   "source": [
    "Creating a new field changes awk’s internal copy of the current input record, which is the value of `$0`. Thus, if you do `‘print $0’` after adding a field, the record printed includes the new field, with the appropriate number of field separators between it and the previously existing fields.\n",
    "\n",
    "This recomputation affects and is affected by NF (the number of fields; see Fields). For example, the value of NF is set to the number of the highest field you create. The exact format of $0 is also affected by a feature that has not been discussed yet: the output field separator, OFS, used to separate the fields (see Output Separators).\n",
    "\n",
    "Note, however, that merely referencing an out-of-range field does not change the value of either $0 or NF. Referencing an out-of-range field only produces an empty string. For example:\n",
    "\n",
    "```\n",
    "if ($(NF+1) != \"\")\n",
    "    print \"can't happen\"\n",
    "else\n",
    "    print \"everything is normal\"\n",
    "```"
   ]
  },
  {
   "cell_type": "code",
   "execution_count": 23,
   "metadata": {},
   "outputs": [
    {
     "name": "stdout",
     "output_type": "stream",
     "text": [
      "a::c:d\n",
      "4\n"
     ]
    }
   ],
   "source": [
    "# making an assignment to an existing field changes the value of $0 \n",
    "# but does not change the value of NF, even when you assign the empty string to a field. For example:\n",
    "echo a b c d | awk '{ OFS = \":\"; $2 = \"\"\n",
    "print $0; print NF }' \n",
    "\n",
    "# The field is still there; it just has an empty value, delimited by the two colons between ‘a’ and ‘c’. \n"
   ]
  },
  {
   "cell_type": "code",
   "execution_count": 24,
   "metadata": {},
   "outputs": [
    {
     "name": "stdout",
     "output_type": "stream",
     "text": [
      "a::c:d::new\n",
      "6\n"
     ]
    }
   ],
   "source": [
    "# This example shows what happens if you create a new field:\n",
    "echo a b c d | awk '{ OFS = \":\"; $2 = \"\"; $6 = \"new\"\n",
    "                    print $0; print NF }'"
   ]
  },
  {
   "cell_type": "code",
   "execution_count": 27,
   "metadata": {},
   "outputs": [
    {
     "name": "stdout",
     "output_type": "stream",
     "text": [
      "NF = 6\n",
      "a b c d e f\n",
      "a b c\n",
      "NF = 3\n"
     ]
    }
   ],
   "source": [
    "# Decrementing NF throws away the values of the fields after the new value of NF and recomputes $0\n",
    "echo a b c d e f | awk '{ print \"NF =\", NF; print $0;\n",
    "                         NF = 3; print $0;print \"NF =\", NF; }'"
   ]
  },
  {
   "cell_type": "markdown",
   "metadata": {},
   "source": [
    "It is important to remember that $0 is the full record, exactly as it was read from the input. This includes any leading or trailing whitespace, and the exact whitespace (or other characters) that separates the fields.\n",
    "\n",
    "It is a common error to try to change the field separators in a record simply by setting FS and OFS, and then expecting a plain `print` or `print $0` to print the modified record.\n",
    "\n",
    "But this does not work, because nothing was done to change the record itself. Instead, you must force the record to be rebuilt, typically with a statement such as `$1 = $1`, as described earlier."
   ]
  },
  {
   "cell_type": "markdown",
   "metadata": {},
   "source": [
    "## Field splitting\n",
    "\n",
    "### Default field splitting\n",
    "\n",
    "The field separator, which is either a single character or a regular expression, controls the way awk splits an input record into fields. awk scans the input record for character sequences that match the separator; the fields themselves are the text between the matches."
   ]
  },
  {
   "cell_type": "code",
   "execution_count": 32,
   "metadata": {},
   "outputs": [
    {
     "name": "stdout",
     "output_type": "stream",
     "text": [
      ":goo;\n"
     ]
    }
   ],
   "source": [
    "# Default FS is ' '+\n",
    "echo 'moo    goo gai       pan' | awk '{ print \":\" $2 \";\" }'"
   ]
  },
  {
   "cell_type": "code",
   "execution_count": 33,
   "metadata": {},
   "outputs": [
    {
     "name": "stdout",
     "output_type": "stream",
     "text": [
      ":    g;\n"
     ]
    }
   ],
   "source": [
    "# the 'oo' as FS, see that spaces are now part of field values\n",
    "echo 'moo    goo gai       pan' | awk 'BEGIN {FS=\"oo\"}; { print \":\" $2 \";\" }'"
   ]
  },
  {
   "cell_type": "code",
   "execution_count": 34,
   "metadata": {},
   "outputs": [
    {
     "name": "stdout",
     "output_type": "stream",
     "text": [
      ":Q.;\n"
     ]
    }
   ],
   "source": [
    "echo 'John Q. Smith, 29 Oak St., Walamazoo, MI 42139' | awk '{ print \":\" $2 \";\" }'"
   ]
  },
  {
   "cell_type": "code",
   "execution_count": 35,
   "metadata": {},
   "outputs": [
    {
     "name": "stdout",
     "output_type": "stream",
     "text": [
      ": 29 Oak St.;\n"
     ]
    }
   ],
   "source": [
    "echo 'John Q. Smith, 29 Oak St., Walamazoo, MI 42139' | awk -F\",\" '{ print \":\" $2 \";\" }'"
   ]
  },
  {
   "cell_type": "markdown",
   "metadata": {},
   "source": [
    "## Constant width data\n"
   ]
  },
  {
   "cell_type": "code",
   "execution_count": 40,
   "metadata": {
    "scrolled": true
   },
   "outputs": [
    {
     "name": "stdout",
     "output_type": "stream",
     "text": [
      " 13:27:26 up 7 days,  6:27,  0 users,  load average: 0.11, 0.05, 0.01\n",
      "USER     TTY      FROM             LOGIN@   IDLE   JCPU   PCPU WHAT\n"
     ]
    }
   ],
   "source": [
    "w"
   ]
  },
  {
   "cell_type": "code",
   "execution_count": 41,
   "metadata": {},
   "outputs": [],
   "source": [
    "w | awk 'BEGIN  { FIELDWIDTHS = \"9 6 10 6 7 7 35\" }\n",
    "NR > 2 {\n",
    "    idle = $4\n",
    "    sub(/^ +/, \"\", idle)   # strip leading spaces\n",
    "    if (idle == \"\")\n",
    "        idle = 0\n",
    "    if (idle ~ /:/) {      # hh:mm\n",
    "        split(idle, t, \":\")\n",
    "        idle = t[1] * 60 + t[2]\n",
    "    }\n",
    "    if (idle ~ /days/)\n",
    "        idle *= 24 * 60 * 60\n",
    "\n",
    "    print $1, $2, idle\n",
    "}'"
   ]
  }
 ],
 "metadata": {
  "kernelspec": {
   "display_name": "Bash",
   "language": "bash",
   "name": "bash"
  },
  "language_info": {
   "codemirror_mode": "shell",
   "file_extension": ".sh",
   "mimetype": "text/x-sh",
   "name": "bash"
  }
 },
 "nbformat": 4,
 "nbformat_minor": 2
}
